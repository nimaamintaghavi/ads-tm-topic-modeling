{
 "cells": [
  {
   "cell_type": "markdown",
   "id": "bce2bb89",
   "metadata": {},
   "source": [
    "# ADS 509 Assignment 5.1: Topic Modeling\n",
    "\n",
    "This notebook holds Assignment 5.1 for Module 5 in ADS 509, Applied Text Mining. Work through this notebook, writing code and answering questions where required. \n",
    "\n",
    "In this assignment you will work with a categorical corpus that accompanies `nltk`. You will build the three types of topic models described in Chapter 8 of _Blueprints for Text Analytics using Python_: NMF, LSA, and LDA. You will compare these models to the true categories. \n"
   ]
  },
  {
   "cell_type": "markdown",
   "id": "d87e2c06",
   "metadata": {},
   "source": [
    "## General Assignment Instructions\n",
    "\n",
    "These instructions are included in every assignment, to remind you of the coding standards for the class. Feel free to delete this cell after reading it. \n",
    "\n",
    "One sign of mature code is conforming to a style guide. We recommend the [Google Python Style Guide](https://google.github.io/styleguide/pyguide.html). If you use a different style guide, please include a cell with a link. \n",
    "\n",
    "Your code should be relatively easy-to-read, sensibly commented, and clean. Writing code is a messy process, so please be sure to edit your final submission. Remove any cells that are not needed or parts of cells that contain unnecessary code. Remove inessential `import` statements and make sure that all such statements are moved into the designated cell. \n",
    "\n",
    "Make use of non-code cells for written commentary. These cells should be grammatical and clearly written. In some of these cells you will have questions to answer. The questions will be marked by a \"Q:\" and will have a corresponding \"A:\" spot for you. *Make sure to answer every question marked with a `Q:` for full credit.* \n"
   ]
  },
  {
   "cell_type": "code",
   "execution_count": 30,
   "id": "a85bce08",
   "metadata": {},
   "outputs": [],
   "source": [
    "# These libraries may be useful to you\n",
    "\n",
    "from nltk.corpus import brown\n",
    "\n",
    "import numpy as np\n",
    "import pandas as pd\n",
    "from tqdm.auto import tqdm\n",
    "\n",
    "import gensim\n",
    "import gensim.corpora as corpora\n",
    "from gensim.utils import simple_preprocess\n",
    "from gensim.models import CoherenceModel,LdaMulticore, Phrases \n",
    "from gensim.models.phrases import Phraser \n",
    "from gensim.corpora import Dictionary\n",
    "from IPython.display import display\n",
    "\n",
    "import pyLDAvis\n",
    "import pyLDAvis.sklearn\n",
    "import pyLDAvis.gensim_models\n",
    "import matplotlib.pyplot as plt\n",
    "import spacy\n",
    "from sklearn.feature_extraction.text import TfidfVectorizer, CountVectorizer\n",
    "from sklearn.decomposition import NMF, TruncatedSVD, LatentDirichletAllocation\n",
    "\n",
    "from spacy.lang.en.stop_words import STOP_WORDS as stopwords\n",
    "from collections import Counter, defaultdict\n",
    "\n",
    "nlp = spacy.load('en_core_web_sm')"
   ]
  },
  {
   "cell_type": "code",
   "execution_count": 31,
   "id": "494de237",
   "metadata": {},
   "outputs": [],
   "source": [
    "# This function comes from the BTAP repo.\n",
    "\n",
    "def display_topics(model, features, no_top_words=5):\n",
    "    for topic, words in enumerate(model.components_):\n",
    "        total = words.sum()\n",
    "        largest = words.argsort()[::-1] # invert sort order\n",
    "        print(\"\\nTopic %02d\" % topic)\n",
    "        for i in range(0, no_top_words):\n",
    "            print(\"  %s (%2.2f)\" % (features[largest[i]], abs(words[largest[i]]*100.0/total)))"
   ]
  },
  {
   "cell_type": "markdown",
   "id": "a30a901c",
   "metadata": {},
   "source": [
    "## Getting to Know the Brown Corpus\n",
    "\n",
    "Let's spend a bit of time getting to know what's in the Brown corpus, our NLTK example of an \"overlapping\" corpus."
   ]
  },
  {
   "cell_type": "code",
   "execution_count": 32,
   "id": "457c59ed",
   "metadata": {},
   "outputs": [
    {
     "name": "stdout",
     "output_type": "stream",
     "text": [
      "For adventure we have 29 articles.\n",
      "For belles_lettres we have 75 articles.\n",
      "For editorial we have 27 articles.\n",
      "For fiction we have 29 articles.\n",
      "For government we have 30 articles.\n",
      "For hobbies we have 36 articles.\n",
      "For humor we have 9 articles.\n",
      "For learned we have 80 articles.\n",
      "For lore we have 48 articles.\n",
      "For mystery we have 24 articles.\n",
      "For news we have 44 articles.\n",
      "For religion we have 17 articles.\n",
      "For reviews we have 17 articles.\n",
      "For romance we have 29 articles.\n",
      "For science_fiction we have 6 articles.\n"
     ]
    }
   ],
   "source": [
    "# categories of articles in Brown corpus\n",
    "for category in brown.categories() :\n",
    "    print(f\"For {category} we have {len(brown.fileids(categories=category))} articles.\")"
   ]
  },
  {
   "cell_type": "markdown",
   "id": "23fb133c",
   "metadata": {},
   "source": [
    "Let's create a dataframe of the articles in of hobbies, editorial, government, news, and romance."
   ]
  },
  {
   "cell_type": "code",
   "execution_count": 33,
   "id": "18f50b9d",
   "metadata": {},
   "outputs": [
    {
     "data": {
      "text/plain": [
       "(166, 3)"
      ]
     },
     "execution_count": 33,
     "metadata": {},
     "output_type": "execute_result"
    }
   ],
   "source": [
    "categories = ['editorial','government','news','romance','hobbies'] \n",
    "\n",
    "category_list = []\n",
    "file_ids = []\n",
    "texts = []\n",
    "\n",
    "for category in categories : \n",
    "    for file_id in brown.fileids(categories=category) :\n",
    "        \n",
    "        # build some lists for a dataframe\n",
    "        category_list.append(category)\n",
    "        file_ids.append(file_id)\n",
    "        \n",
    "        text = brown.words(fileids=file_id)\n",
    "        texts.append(\" \".join(text))\n",
    "\n",
    "          \n",
    "df = pd.DataFrame()\n",
    "df['category'] = category_list\n",
    "df['id'] = file_ids\n",
    "df['text'] = texts \n",
    "\n",
    "df.shape"
   ]
  },
  {
   "cell_type": "code",
   "execution_count": 34,
   "id": "586f47de",
   "metadata": {},
   "outputs": [],
   "source": [
    "# Let's add some helpful columns on the df\n",
    "df['char_len'] = df['text'].apply(len)\n",
    "df['word_len'] = df['text'].apply(lambda x: len(x.split()))"
   ]
  },
  {
   "cell_type": "code",
   "execution_count": 35,
   "id": "2128fd2d",
   "metadata": {},
   "outputs": [
    {
     "data": {
      "text/plain": [
       "<AxesSubplot:xlabel='category'>"
      ]
     },
     "execution_count": 35,
     "metadata": {},
     "output_type": "execute_result"
    },
    {
     "data": {
      "image/png": "[encoded data removed]",
      "text/plain": [
       "<Figure size 720x432 with 1 Axes>"
      ]
     },
     "metadata": {
      "needs_background": "light"
     },
     "output_type": "display_data"
    }
   ],
   "source": [
    "%matplotlib inline\n",
    "df.groupby('category').agg({'word_len': 'mean'}).plot.bar(figsize=(10,6))"
   ]
  },
  {
   "cell_type": "markdown",
   "id": "554ffeb5",
   "metadata": {},
   "source": [
    "Now do our TF-IDF and Count vectorizations."
   ]
  },
  {
   "cell_type": "code",
   "execution_count": 36,
   "id": "21a7d247",
   "metadata": {},
   "outputs": [
    {
     "data": {
      "text/plain": [
       "(166, 4941)"
      ]
     },
     "execution_count": 36,
     "metadata": {},
     "output_type": "execute_result"
    }
   ],
   "source": [
    "count_text_vectorizer = CountVectorizer(stop_words=stopwords, min_df=5, max_df=0.7)\n",
    "count_text_vectors = count_text_vectorizer.fit_transform(df[\"text\"])\n",
    "count_text_vectors.shape"
   ]
  },
  {
   "cell_type": "code",
   "execution_count": 37,
   "id": "875deba9",
   "metadata": {},
   "outputs": [
    {
     "data": {
      "text/plain": [
       "(166, 4941)"
      ]
     },
     "execution_count": 37,
     "metadata": {},
     "output_type": "execute_result"
    }
   ],
   "source": [
    "tfidf_text_vectorizer = TfidfVectorizer(stop_words=stopwords, min_df=5, max_df=0.7)\n",
    "tfidf_text_vectors = tfidf_text_vectorizer.fit_transform(df['text'])\n",
    "tfidf_text_vectors.shape"
   ]
  },
  {
   "cell_type": "markdown",
   "id": "a1062b21",
   "metadata": {},
   "source": [
    "Q: What do the two data frames `count_text_vectors` and `tfidf_text_vectors` hold? \n",
    "\n",
    "A: count_text_vectors holds count of distinct words for each of the 166 documents<br> while tfidf_text_vectors holds the term frequency of each word that occurs in each of those documents. (This would be a ratio 0-1 representing use of that word within that document)"
   ]
  },
  {
   "cell_type": "markdown",
   "id": "f77c3f94",
   "metadata": {},
   "source": [
    "## Fitting a Non-Negative Matrix Factorization Model\n",
    "\n",
    "In this section the code to fit a five-topic NMF model has already been written. This code comes directly from the [BTAP repo](https://github.com/blueprints-for-text-analytics-python/blueprints-text), which will help you tremendously in the coming sections. "
   ]
  },
  {
   "cell_type": "code",
   "execution_count": 38,
   "id": "d28745a3",
   "metadata": {},
   "outputs": [],
   "source": [
    "nmf_text_model = NMF(n_components=5, random_state=314)\n",
    "W_text_matrix = nmf_text_model.fit_transform(tfidf_text_vectors)\n",
    "H_text_matrix = nmf_text_model.components_"
   ]
  },
  {
   "cell_type": "code",
   "execution_count": 39,
   "id": "a67185e7",
   "metadata": {},
   "outputs": [
    {
     "name": "stdout",
     "output_type": "stream",
     "text": [
      "\n",
      "Topic 00\n",
      "  mr (0.51)\n",
      "  president (0.45)\n",
      "  kennedy (0.43)\n",
      "  united (0.42)\n",
      "  khrushchev (0.40)\n",
      "\n",
      "Topic 01\n",
      "  said (0.88)\n",
      "  didn (0.46)\n",
      "  ll (0.45)\n",
      "  thought (0.42)\n",
      "  man (0.37)\n",
      "\n",
      "Topic 02\n",
      "  state (0.40)\n",
      "  development (0.36)\n",
      "  tax (0.33)\n",
      "  sales (0.30)\n",
      "  program (0.25)\n",
      "\n",
      "Topic 03\n",
      "  mrs (2.61)\n",
      "  mr (0.78)\n",
      "  said (0.64)\n",
      "  miss (0.52)\n",
      "  car (0.51)\n",
      "\n",
      "Topic 04\n",
      "  game (1.01)\n",
      "  league (0.74)\n",
      "  ball (0.72)\n",
      "  baseball (0.71)\n",
      "  team (0.66)\n"
     ]
    }
   ],
   "source": [
    "display_topics(nmf_text_model, tfidf_text_vectorizer.get_feature_names())"
   ]
  },
  {
   "cell_type": "markdown",
   "id": "fee51e9b",
   "metadata": {},
   "source": [
    "Now some work for you to do. Compare the NMF factorization to the original categories from the Brown Corpus.\n",
    "\n",
    "We are interested in the extent to which our NMF factorization agrees or disagrees with the original categories in the corpus. For each topic in your NMF model, tally the Brown categories and interpret the results. \n"
   ]
  },
  {
   "cell_type": "code",
   "execution_count": 40,
   "id": "43d12784",
   "metadata": {},
   "outputs": [
    {
     "data": {
      "text/html": [
       "<div>\n",
       "<style scoped>\n",
       "    .dataframe tbody tr th:only-of-type {\n",
       "        vertical-align: middle;\n",
       "    }\n",
       "\n",
       "    .dataframe tbody tr th {\n",
       "        vertical-align: top;\n",
       "    }\n",
       "\n",
       "    .dataframe thead th {\n",
       "        text-align: right;\n",
       "    }\n",
       "</style>\n",
       "<table border=\"1\" class=\"dataframe\">\n",
       "  <thead>\n",
       "    <tr style=\"text-align: right;\">\n",
       "      <th></th>\n",
       "      <th>category</th>\n",
       "      <th>id</th>\n",
       "      <th>text</th>\n",
       "      <th>char_len</th>\n",
       "      <th>word_len</th>\n",
       "      <th>best_topic_nmf</th>\n",
       "    </tr>\n",
       "  </thead>\n",
       "  <tbody>\n",
       "    <tr>\n",
       "      <th>112</th>\n",
       "      <td>romance</td>\n",
       "      <td>cp12</td>\n",
       "      <td>`` I had a rather small place of my own . A ni...</td>\n",
       "      <td>11297</td>\n",
       "      <td>2463</td>\n",
       "      <td>Topic-1</td>\n",
       "    </tr>\n",
       "    <tr>\n",
       "      <th>81</th>\n",
       "      <td>news</td>\n",
       "      <td>ca25</td>\n",
       "      <td>Asilomar , March 26 Vast spraying programs con...</td>\n",
       "      <td>12615</td>\n",
       "      <td>2327</td>\n",
       "      <td>Topic-2</td>\n",
       "    </tr>\n",
       "    <tr>\n",
       "      <th>45</th>\n",
       "      <td>government</td>\n",
       "      <td>ch19</td>\n",
       "      <td>While there should be no general age limit or ...</td>\n",
       "      <td>12420</td>\n",
       "      <td>2194</td>\n",
       "      <td>Topic-0</td>\n",
       "    </tr>\n",
       "    <tr>\n",
       "      <th>86</th>\n",
       "      <td>news</td>\n",
       "      <td>ca30</td>\n",
       "      <td>A cookie with caramel filling and chocolate fr...</td>\n",
       "      <td>11658</td>\n",
       "      <td>2274</td>\n",
       "      <td>Topic-3</td>\n",
       "    </tr>\n",
       "    <tr>\n",
       "      <th>83</th>\n",
       "      <td>news</td>\n",
       "      <td>ca27</td>\n",
       "      <td>Santa Barbara -- `` The present recovery movem...</td>\n",
       "      <td>12554</td>\n",
       "      <td>2288</td>\n",
       "      <td>Topic-2</td>\n",
       "    </tr>\n",
       "    <tr>\n",
       "      <th>129</th>\n",
       "      <td>romance</td>\n",
       "      <td>cp29</td>\n",
       "      <td>`` Good old A-Z '' , Cap said . `` You know , ...</td>\n",
       "      <td>12606</td>\n",
       "      <td>2417</td>\n",
       "      <td>Topic-1</td>\n",
       "    </tr>\n",
       "    <tr>\n",
       "      <th>94</th>\n",
       "      <td>news</td>\n",
       "      <td>ca38</td>\n",
       "      <td>The Masters golf tournament proved last Monday...</td>\n",
       "      <td>11358</td>\n",
       "      <td>2221</td>\n",
       "      <td>Topic-4</td>\n",
       "    </tr>\n",
       "    <tr>\n",
       "      <th>15</th>\n",
       "      <td>editorial</td>\n",
       "      <td>cb16</td>\n",
       "      <td>`` A lousy job '' Chicago , Aug. 9 -- No doubt...</td>\n",
       "      <td>12290</td>\n",
       "      <td>2260</td>\n",
       "      <td>Topic-0</td>\n",
       "    </tr>\n",
       "    <tr>\n",
       "      <th>89</th>\n",
       "      <td>news</td>\n",
       "      <td>ca33</td>\n",
       "      <td>At last the White House is going to get some m...</td>\n",
       "      <td>12407</td>\n",
       "      <td>2284</td>\n",
       "      <td>Topic-3</td>\n",
       "    </tr>\n",
       "    <tr>\n",
       "      <th>96</th>\n",
       "      <td>news</td>\n",
       "      <td>ca40</td>\n",
       "      <td>Into Washington on President-elect John F. Ken...</td>\n",
       "      <td>12459</td>\n",
       "      <td>2340</td>\n",
       "      <td>Topic-3</td>\n",
       "    </tr>\n",
       "  </tbody>\n",
       "</table>\n",
       "</div>"
      ],
      "text/plain": [
       "       category    id                                               text  \\\n",
       "112     romance  cp12  `` I had a rather small place of my own . A ni...   \n",
       "81         news  ca25  Asilomar , March 26 Vast spraying programs con...   \n",
       "45   government  ch19  While there should be no general age limit or ...   \n",
       "86         news  ca30  A cookie with caramel filling and chocolate fr...   \n",
       "83         news  ca27  Santa Barbara -- `` The present recovery movem...   \n",
       "129     romance  cp29  `` Good old A-Z '' , Cap said . `` You know , ...   \n",
       "94         news  ca38  The Masters golf tournament proved last Monday...   \n",
       "15    editorial  cb16  `` A lousy job '' Chicago , Aug. 9 -- No doubt...   \n",
       "89         news  ca33  At last the White House is going to get some m...   \n",
       "96         news  ca40  Into Washington on President-elect John F. Ken...   \n",
       "\n",
       "     char_len  word_len best_topic_nmf  \n",
       "112     11297      2463        Topic-1  \n",
       "81      12615      2327        Topic-2  \n",
       "45      12420      2194        Topic-0  \n",
       "86      11658      2274        Topic-3  \n",
       "83      12554      2288        Topic-2  \n",
       "129     12606      2417        Topic-1  \n",
       "94      11358      2221        Topic-4  \n",
       "15      12290      2260        Topic-0  \n",
       "89      12407      2284        Topic-3  \n",
       "96      12459      2340        Topic-3  "
      ]
     },
     "execution_count": 40,
     "metadata": {},
     "output_type": "execute_result"
    }
   ],
   "source": [
    "df['best_topic_nmf'] = W_text_matrix.argmax(axis=1)\n",
    "df['best_topic_nmf'] = df['best_topic_nmf'].apply(lambda value: 'Topic-%s' % value)\n",
    "df.sample(10)"
   ]
  },
  {
   "cell_type": "code",
   "execution_count": 41,
   "id": "539862e9",
   "metadata": {},
   "outputs": [
    {
     "data": {
      "image/png": "[encoded data removed]",
      "text/plain": [
       "<Figure size 864x432 with 1 Axes>"
      ]
     },
     "metadata": {
      "needs_background": "light"
     },
     "output_type": "display_data"
    },
    {
     "data": {
      "image/png": "[encoded data removed]",
      "text/plain": [
       "<Figure size 864x432 with 1 Axes>"
      ]
     },
     "metadata": {
      "needs_background": "light"
     },
     "output_type": "display_data"
    }
   ],
   "source": [
    "def create_charts_and_return_aggregate_df(df, column_name):\n",
    "    # group by closest_topic aggregate by category count sort by category count number\n",
    "    topic_with_category_legand = df.groupby([column_name, 'category']).agg({'category': 'count'})\n",
    "    topic_with_category_legand.unstack().plot.bar(figsize=(12,6), stacked=True, rot=0)\n",
    "    plt.title('Number of Categories In Cach Topic')\n",
    "    plt.xlabel('Topics')\n",
    "    plt.ylabel(\"Occurance of Category in Corpus\")\n",
    "\n",
    "    # proportion of topics based on category count\n",
    "    category_with_topic_legand =  df.groupby(['category', column_name]).agg({'category': 'count'})\n",
    "    perportion = category_with_topic_legand.groupby(level=0).apply(lambda x: 100 * x / float(x.sum()))\n",
    "    perportion.unstack().plot.bar(figsize=(12,6), stacked=True, rot=0)\n",
    "    plt.title('Proportion of Topics Within Each Category')\n",
    "    plt.xlabel('Categories')\n",
    "    plt.ylabel(\"Proportion of Topics\")\n",
    "    \n",
    "    return topic_with_category_legand\n",
    "\n",
    "summary_table_nmf = create_charts_and_return_aggregate_df(df, 'best_topic_nmf')   "
   ]
  },
  {
   "cell_type": "code",
   "execution_count": 42,
   "id": "20d17f3d",
   "metadata": {},
   "outputs": [],
   "source": [
    "# this is the same code as above. It is to show the same topics in one data frame\n",
    "class CorpusModel:\n",
    "    def __init__(self, components, features, no_top_words=5):\n",
    "        self.topics = pd.DataFrame()\n",
    "        \n",
    "        for topic, words in enumerate(components):\n",
    "            topic_title = 'Topic-%s' % topic\n",
    "            largest = words.argsort()[::-1]\n",
    "            top_word = [features[largest[n]] for n in range(1, no_top_words)]\n",
    "            this_topic = pd.DataFrame(top_word, columns=[topic_title])\n",
    "            self.topics = \\\n",
    "                pd.merge(self.topics, this_topic, left_index=True, right_index=True, how='right')\n",
    "        \n",
    "        self.show_topics()\n",
    "        \n",
    "    def show_topics(self):\n",
    "        display(self.topics)"
   ]
  },
  {
   "cell_type": "code",
   "execution_count": 43,
   "id": "39de28da",
   "metadata": {},
   "outputs": [
    {
     "data": {
      "text/html": [
       "<div>\n",
       "<style scoped>\n",
       "    .dataframe tbody tr th:only-of-type {\n",
       "        vertical-align: middle;\n",
       "    }\n",
       "\n",
       "    .dataframe tbody tr th {\n",
       "        vertical-align: top;\n",
       "    }\n",
       "\n",
       "    .dataframe thead th {\n",
       "        text-align: right;\n",
       "    }\n",
       "</style>\n",
       "<table border=\"1\" class=\"dataframe\">\n",
       "  <thead>\n",
       "    <tr style=\"text-align: right;\">\n",
       "      <th></th>\n",
       "      <th>Topic-0</th>\n",
       "      <th>Topic-1</th>\n",
       "      <th>Topic-2</th>\n",
       "      <th>Topic-3</th>\n",
       "      <th>Topic-4</th>\n",
       "    </tr>\n",
       "  </thead>\n",
       "  <tbody>\n",
       "    <tr>\n",
       "      <th>0</th>\n",
       "      <td>president</td>\n",
       "      <td>didn</td>\n",
       "      <td>development</td>\n",
       "      <td>mr</td>\n",
       "      <td>league</td>\n",
       "    </tr>\n",
       "    <tr>\n",
       "      <th>1</th>\n",
       "      <td>kennedy</td>\n",
       "      <td>ll</td>\n",
       "      <td>tax</td>\n",
       "      <td>said</td>\n",
       "      <td>ball</td>\n",
       "    </tr>\n",
       "    <tr>\n",
       "      <th>2</th>\n",
       "      <td>united</td>\n",
       "      <td>thought</td>\n",
       "      <td>sales</td>\n",
       "      <td>miss</td>\n",
       "      <td>baseball</td>\n",
       "    </tr>\n",
       "    <tr>\n",
       "      <th>3</th>\n",
       "      <td>khrushchev</td>\n",
       "      <td>man</td>\n",
       "      <td>program</td>\n",
       "      <td>car</td>\n",
       "      <td>team</td>\n",
       "    </tr>\n",
       "  </tbody>\n",
       "</table>\n",
       "</div>"
      ],
      "text/plain": [
       "      Topic-0  Topic-1      Topic-2 Topic-3   Topic-4\n",
       "0   president     didn  development      mr    league\n",
       "1     kennedy       ll          tax    said      ball\n",
       "2      united  thought        sales    miss  baseball\n",
       "3  khrushchev      man      program     car      team"
      ]
     },
     "metadata": {},
     "output_type": "display_data"
    },
    {
     "data": {
      "text/html": [
       "<div>\n",
       "<style scoped>\n",
       "    .dataframe tbody tr th:only-of-type {\n",
       "        vertical-align: middle;\n",
       "    }\n",
       "\n",
       "    .dataframe tbody tr th {\n",
       "        vertical-align: top;\n",
       "    }\n",
       "\n",
       "    .dataframe thead th {\n",
       "        text-align: right;\n",
       "    }\n",
       "</style>\n",
       "<table border=\"1\" class=\"dataframe\">\n",
       "  <thead>\n",
       "    <tr style=\"text-align: right;\">\n",
       "      <th></th>\n",
       "      <th></th>\n",
       "      <th>category</th>\n",
       "    </tr>\n",
       "    <tr>\n",
       "      <th>best_topic_nmf</th>\n",
       "      <th>category</th>\n",
       "      <th></th>\n",
       "    </tr>\n",
       "  </thead>\n",
       "  <tbody>\n",
       "    <tr>\n",
       "      <th rowspan=\"3\" valign=\"top\">Topic-0</th>\n",
       "      <th>editorial</th>\n",
       "      <td>20</td>\n",
       "    </tr>\n",
       "    <tr>\n",
       "      <th>government</th>\n",
       "      <td>4</td>\n",
       "    </tr>\n",
       "    <tr>\n",
       "      <th>news</th>\n",
       "      <td>8</td>\n",
       "    </tr>\n",
       "    <tr>\n",
       "      <th rowspan=\"3\" valign=\"top\">Topic-1</th>\n",
       "      <th>editorial</th>\n",
       "      <td>4</td>\n",
       "    </tr>\n",
       "    <tr>\n",
       "      <th>hobbies</th>\n",
       "      <td>8</td>\n",
       "    </tr>\n",
       "    <tr>\n",
       "      <th>romance</th>\n",
       "      <td>29</td>\n",
       "    </tr>\n",
       "    <tr>\n",
       "      <th rowspan=\"4\" valign=\"top\">Topic-2</th>\n",
       "      <th>editorial</th>\n",
       "      <td>2</td>\n",
       "    </tr>\n",
       "    <tr>\n",
       "      <th>government</th>\n",
       "      <td>26</td>\n",
       "    </tr>\n",
       "    <tr>\n",
       "      <th>hobbies</th>\n",
       "      <td>26</td>\n",
       "    </tr>\n",
       "    <tr>\n",
       "      <th>news</th>\n",
       "      <td>11</td>\n",
       "    </tr>\n",
       "    <tr>\n",
       "      <th rowspan=\"2\" valign=\"top\">Topic-3</th>\n",
       "      <th>hobbies</th>\n",
       "      <td>1</td>\n",
       "    </tr>\n",
       "    <tr>\n",
       "      <th>news</th>\n",
       "      <td>17</td>\n",
       "    </tr>\n",
       "    <tr>\n",
       "      <th rowspan=\"3\" valign=\"top\">Topic-4</th>\n",
       "      <th>editorial</th>\n",
       "      <td>1</td>\n",
       "    </tr>\n",
       "    <tr>\n",
       "      <th>hobbies</th>\n",
       "      <td>1</td>\n",
       "    </tr>\n",
       "    <tr>\n",
       "      <th>news</th>\n",
       "      <td>8</td>\n",
       "    </tr>\n",
       "  </tbody>\n",
       "</table>\n",
       "</div>"
      ],
      "text/plain": [
       "                           category\n",
       "best_topic_nmf category            \n",
       "Topic-0        editorial         20\n",
       "               government         4\n",
       "               news               8\n",
       "Topic-1        editorial          4\n",
       "               hobbies            8\n",
       "               romance           29\n",
       "Topic-2        editorial          2\n",
       "               government        26\n",
       "               hobbies           26\n",
       "               news              11\n",
       "Topic-3        hobbies            1\n",
       "               news              17\n",
       "Topic-4        editorial          1\n",
       "               hobbies            1\n",
       "               news               8"
      ]
     },
     "execution_count": 43,
     "metadata": {},
     "output_type": "execute_result"
    }
   ],
   "source": [
    "curpus_model = CorpusModel(nmf_text_model.components_, tfidf_text_vectorizer.get_feature_names())\n",
    "summary_table_nmf"
   ]
  },
  {
   "cell_type": "markdown",
   "id": "f8d4e2bc",
   "metadata": {},
   "source": [
    "Q: How does your five-topic NMF model compare to the original Brown categories? \n",
    "\n",
    "A: It can be observed that for example Topic-2 cotains words such as program, tax, development <br>\n",
    "on the other, highest perportion of documents with government catory have Topic-2 <br>\n",
    "Similarly, words like president, kennedy, united are seen manily in the editorial category <br>\n",
    "and very few in the other categories.<br>\n",
    "This is expected and there is a good alignment between the topics and categories.<br>\n"
   ]
  },
  {
   "cell_type": "markdown",
   "id": "82e37cb5",
   "metadata": {},
   "source": [
    "## Fitting an LSA Model\n",
    "\n",
    "In this section, follow the example from the repository and fit an LSA model (called a \"TruncatedSVD\" in `sklearn`). Again fit a five-topic model and compare it to the actual categories in the Brown corpus. Use the TF-IDF vectors for your fit, as above. \n",
    "\n",
    "To be explicit, we are once again interested in the extent to which this LSA factorization agrees or disagrees with the original categories in the corpus. For each topic in your model, tally the Brown categories and interpret the results. \n"
   ]
  },
  {
   "cell_type": "code",
   "execution_count": 44,
   "id": "00b53d3d",
   "metadata": {},
   "outputs": [
    {
     "data": {
      "text/html": [
       "<div>\n",
       "<style scoped>\n",
       "    .dataframe tbody tr th:only-of-type {\n",
       "        vertical-align: middle;\n",
       "    }\n",
       "\n",
       "    .dataframe tbody tr th {\n",
       "        vertical-align: top;\n",
       "    }\n",
       "\n",
       "    .dataframe thead th {\n",
       "        text-align: right;\n",
       "    }\n",
       "</style>\n",
       "<table border=\"1\" class=\"dataframe\">\n",
       "  <thead>\n",
       "    <tr style=\"text-align: right;\">\n",
       "      <th></th>\n",
       "      <th>category</th>\n",
       "      <th>id</th>\n",
       "      <th>text</th>\n",
       "      <th>char_len</th>\n",
       "      <th>word_len</th>\n",
       "      <th>best_topic_nmf</th>\n",
       "      <th>best_topic_svd</th>\n",
       "    </tr>\n",
       "  </thead>\n",
       "  <tbody>\n",
       "    <tr>\n",
       "      <th>7</th>\n",
       "      <td>editorial</td>\n",
       "      <td>cb08</td>\n",
       "      <td>Old , tired , trembling the woman came to the ...</td>\n",
       "      <td>11340</td>\n",
       "      <td>2395</td>\n",
       "      <td>Topic-1</td>\n",
       "      <td>Topic-0</td>\n",
       "    </tr>\n",
       "    <tr>\n",
       "      <th>164</th>\n",
       "      <td>hobbies</td>\n",
       "      <td>ce35</td>\n",
       "      <td>New rule no. 2 : : Don't build from the outsid...</td>\n",
       "      <td>11800</td>\n",
       "      <td>2272</td>\n",
       "      <td>Topic-2</td>\n",
       "      <td>Topic-0</td>\n",
       "    </tr>\n",
       "    <tr>\n",
       "      <th>61</th>\n",
       "      <td>news</td>\n",
       "      <td>ca05</td>\n",
       "      <td>East Providence should organize its civil defe...</td>\n",
       "      <td>12201</td>\n",
       "      <td>2244</td>\n",
       "      <td>Topic-0</td>\n",
       "      <td>Topic-0</td>\n",
       "    </tr>\n",
       "    <tr>\n",
       "      <th>22</th>\n",
       "      <td>editorial</td>\n",
       "      <td>cb23</td>\n",
       "      <td>Everywhere I went in Formosa I asked the same ...</td>\n",
       "      <td>12325</td>\n",
       "      <td>2357</td>\n",
       "      <td>Topic-0</td>\n",
       "      <td>Topic-0</td>\n",
       "    </tr>\n",
       "    <tr>\n",
       "      <th>63</th>\n",
       "      <td>news</td>\n",
       "      <td>ca07</td>\n",
       "      <td>Resentment welled up yesterday among Democrati...</td>\n",
       "      <td>12960</td>\n",
       "      <td>2270</td>\n",
       "      <td>Topic-0</td>\n",
       "      <td>Topic-0</td>\n",
       "    </tr>\n",
       "    <tr>\n",
       "      <th>99</th>\n",
       "      <td>news</td>\n",
       "      <td>ca43</td>\n",
       "      <td>Holders of toll-road bonds are finding improve...</td>\n",
       "      <td>12527</td>\n",
       "      <td>2291</td>\n",
       "      <td>Topic-2</td>\n",
       "      <td>Topic-0</td>\n",
       "    </tr>\n",
       "    <tr>\n",
       "      <th>55</th>\n",
       "      <td>government</td>\n",
       "      <td>ch29</td>\n",
       "      <td>In recent months , much attention has been giv...</td>\n",
       "      <td>12843</td>\n",
       "      <td>2225</td>\n",
       "      <td>Topic-2</td>\n",
       "      <td>Topic-0</td>\n",
       "    </tr>\n",
       "    <tr>\n",
       "      <th>13</th>\n",
       "      <td>editorial</td>\n",
       "      <td>cb14</td>\n",
       "      <td>This is the period during the melancholy days ...</td>\n",
       "      <td>11875</td>\n",
       "      <td>2264</td>\n",
       "      <td>Topic-0</td>\n",
       "      <td>Topic-0</td>\n",
       "    </tr>\n",
       "    <tr>\n",
       "      <th>69</th>\n",
       "      <td>news</td>\n",
       "      <td>ca13</td>\n",
       "      <td>Rookie Ron Nischwitz continued his pinpoint pi...</td>\n",
       "      <td>11478</td>\n",
       "      <td>2241</td>\n",
       "      <td>Topic-4</td>\n",
       "      <td>Topic-4</td>\n",
       "    </tr>\n",
       "    <tr>\n",
       "      <th>158</th>\n",
       "      <td>hobbies</td>\n",
       "      <td>ce29</td>\n",
       "      <td>The controversy of the last few years over whe...</td>\n",
       "      <td>12903</td>\n",
       "      <td>2246</td>\n",
       "      <td>Topic-2</td>\n",
       "      <td>Topic-0</td>\n",
       "    </tr>\n",
       "  </tbody>\n",
       "</table>\n",
       "</div>"
      ],
      "text/plain": [
       "       category    id                                               text  \\\n",
       "7     editorial  cb08  Old , tired , trembling the woman came to the ...   \n",
       "164     hobbies  ce35  New rule no. 2 : : Don't build from the outsid...   \n",
       "61         news  ca05  East Providence should organize its civil defe...   \n",
       "22    editorial  cb23  Everywhere I went in Formosa I asked the same ...   \n",
       "63         news  ca07  Resentment welled up yesterday among Democrati...   \n",
       "99         news  ca43  Holders of toll-road bonds are finding improve...   \n",
       "55   government  ch29  In recent months , much attention has been giv...   \n",
       "13    editorial  cb14  This is the period during the melancholy days ...   \n",
       "69         news  ca13  Rookie Ron Nischwitz continued his pinpoint pi...   \n",
       "158     hobbies  ce29  The controversy of the last few years over whe...   \n",
       "\n",
       "     char_len  word_len best_topic_nmf best_topic_svd  \n",
       "7       11340      2395        Topic-1        Topic-0  \n",
       "164     11800      2272        Topic-2        Topic-0  \n",
       "61      12201      2244        Topic-0        Topic-0  \n",
       "22      12325      2357        Topic-0        Topic-0  \n",
       "63      12960      2270        Topic-0        Topic-0  \n",
       "99      12527      2291        Topic-2        Topic-0  \n",
       "55      12843      2225        Topic-2        Topic-0  \n",
       "13      11875      2264        Topic-0        Topic-0  \n",
       "69      11478      2241        Topic-4        Topic-4  \n",
       "158     12903      2246        Topic-2        Topic-0  "
      ]
     },
     "metadata": {},
     "output_type": "display_data"
    },
    {
     "data": {
      "image/png": "[encoded data removed]",
      "text/plain": [
       "<Figure size 864x432 with 1 Axes>"
      ]
     },
     "metadata": {
      "needs_background": "light"
     },
     "output_type": "display_data"
    },
    {
     "data": {
      "image/png": "[encoded data removed]",
      "text/plain": [
       "<Figure size 864x432 with 1 Axes>"
      ]
     },
     "metadata": {
      "needs_background": "light"
     },
     "output_type": "display_data"
    }
   ],
   "source": [
    "# Your code here\n",
    "\n",
    "svd_text_model = TruncatedSVD(n_components = 5, random_state=110)\n",
    "W_svd_text_matrix = svd_text_model.fit_transform(tfidf_text_vectors)\n",
    "H_svd_text_matrix = svd_text_model.components_\n",
    "\n",
    "df['best_topic_svd'] = W_svd_text_matrix.argmax(axis=1)\n",
    "df['best_topic_svd'] = df['best_topic_svd'].apply(lambda value: 'Topic-%s' % value)\n",
    "display(df.sample(10))\n",
    "\n",
    "summary_table_svd = create_charts_and_return_aggregate_df(df, 'best_topic_svd')   "
   ]
  },
  {
   "cell_type": "markdown",
   "id": "4d94d56f",
   "metadata": {},
   "source": [
    "Q: How does your five-topic LSA model compare to the original Brown categories? \n",
    "\n",
    "A: Very poorly, most categories are aligned with Topic-0 and very few documents are predicted to have other topics."
   ]
  },
  {
   "cell_type": "code",
   "execution_count": 45,
   "id": "377a886e",
   "metadata": {},
   "outputs": [
    {
     "data": {
      "text/html": [
       "<div>\n",
       "<style scoped>\n",
       "    .dataframe tbody tr th:only-of-type {\n",
       "        vertical-align: middle;\n",
       "    }\n",
       "\n",
       "    .dataframe tbody tr th {\n",
       "        vertical-align: top;\n",
       "    }\n",
       "\n",
       "    .dataframe thead th {\n",
       "        text-align: right;\n",
       "    }\n",
       "</style>\n",
       "<table border=\"1\" class=\"dataframe\">\n",
       "  <thead>\n",
       "    <tr style=\"text-align: right;\">\n",
       "      <th></th>\n",
       "      <th>Topic-0</th>\n",
       "      <th>Topic-1</th>\n",
       "      <th>Topic-2</th>\n",
       "      <th>Topic-3</th>\n",
       "      <th>Topic-4</th>\n",
       "    </tr>\n",
       "  </thead>\n",
       "  <tbody>\n",
       "    <tr>\n",
       "      <th>0</th>\n",
       "      <td>president</td>\n",
       "      <td>didn</td>\n",
       "      <td>development</td>\n",
       "      <td>mr</td>\n",
       "      <td>league</td>\n",
       "    </tr>\n",
       "    <tr>\n",
       "      <th>1</th>\n",
       "      <td>kennedy</td>\n",
       "      <td>ll</td>\n",
       "      <td>tax</td>\n",
       "      <td>said</td>\n",
       "      <td>ball</td>\n",
       "    </tr>\n",
       "    <tr>\n",
       "      <th>2</th>\n",
       "      <td>united</td>\n",
       "      <td>thought</td>\n",
       "      <td>sales</td>\n",
       "      <td>miss</td>\n",
       "      <td>baseball</td>\n",
       "    </tr>\n",
       "    <tr>\n",
       "      <th>3</th>\n",
       "      <td>khrushchev</td>\n",
       "      <td>man</td>\n",
       "      <td>program</td>\n",
       "      <td>car</td>\n",
       "      <td>team</td>\n",
       "    </tr>\n",
       "  </tbody>\n",
       "</table>\n",
       "</div>"
      ],
      "text/plain": [
       "      Topic-0  Topic-1      Topic-2 Topic-3   Topic-4\n",
       "0   president     didn  development      mr    league\n",
       "1     kennedy       ll          tax    said      ball\n",
       "2      united  thought        sales    miss  baseball\n",
       "3  khrushchev      man      program     car      team"
      ]
     },
     "metadata": {},
     "output_type": "display_data"
    },
    {
     "data": {
      "text/html": [
       "<div>\n",
       "<style scoped>\n",
       "    .dataframe tbody tr th:only-of-type {\n",
       "        vertical-align: middle;\n",
       "    }\n",
       "\n",
       "    .dataframe tbody tr th {\n",
       "        vertical-align: top;\n",
       "    }\n",
       "\n",
       "    .dataframe thead th {\n",
       "        text-align: right;\n",
       "    }\n",
       "</style>\n",
       "<table border=\"1\" class=\"dataframe\">\n",
       "  <thead>\n",
       "    <tr style=\"text-align: right;\">\n",
       "      <th></th>\n",
       "      <th></th>\n",
       "      <th>category</th>\n",
       "    </tr>\n",
       "    <tr>\n",
       "      <th>best_topic_svd</th>\n",
       "      <th>category</th>\n",
       "      <th></th>\n",
       "    </tr>\n",
       "  </thead>\n",
       "  <tbody>\n",
       "    <tr>\n",
       "      <th rowspan=\"5\" valign=\"top\">Topic-0</th>\n",
       "      <th>editorial</th>\n",
       "      <td>27</td>\n",
       "    </tr>\n",
       "    <tr>\n",
       "      <th>government</th>\n",
       "      <td>30</td>\n",
       "    </tr>\n",
       "    <tr>\n",
       "      <th>hobbies</th>\n",
       "      <td>36</td>\n",
       "    </tr>\n",
       "    <tr>\n",
       "      <th>news</th>\n",
       "      <td>34</td>\n",
       "    </tr>\n",
       "    <tr>\n",
       "      <th>romance</th>\n",
       "      <td>21</td>\n",
       "    </tr>\n",
       "    <tr>\n",
       "      <th>Topic-1</th>\n",
       "      <th>romance</th>\n",
       "      <td>8</td>\n",
       "    </tr>\n",
       "    <tr>\n",
       "      <th>Topic-3</th>\n",
       "      <th>news</th>\n",
       "      <td>3</td>\n",
       "    </tr>\n",
       "    <tr>\n",
       "      <th>Topic-4</th>\n",
       "      <th>news</th>\n",
       "      <td>7</td>\n",
       "    </tr>\n",
       "  </tbody>\n",
       "</table>\n",
       "</div>"
      ],
      "text/plain": [
       "                           category\n",
       "best_topic_svd category            \n",
       "Topic-0        editorial         27\n",
       "               government        30\n",
       "               hobbies           36\n",
       "               news              34\n",
       "               romance           21\n",
       "Topic-1        romance            8\n",
       "Topic-3        news               3\n",
       "Topic-4        news               7"
      ]
     },
     "execution_count": 45,
     "metadata": {},
     "output_type": "execute_result"
    }
   ],
   "source": [
    "# call display_topics on your model\n",
    "curpus_model.show_topics()\n",
    "summary_table_svd"
   ]
  },
  {
   "cell_type": "markdown",
   "id": "ea8b280a",
   "metadata": {},
   "source": [
    "Q: What is your interpretation of the display topics output? \n",
    "\n",
    "A: This model will not be a good fit to predict the topics since we know that <br>\n",
    "words in topic-0 (president, kennedy, khrushchev, etc.) are not related to hobbies and romance."
   ]
  },
  {
   "cell_type": "markdown",
   "id": "b4ab4d29",
   "metadata": {},
   "source": [
    "## Fitting an LDA Model\n",
    "\n",
    "Finally, fit a five-topic LDA model using the count vectors (`count_text_vectors` from above). Display the results using `pyLDAvis.display` and describe what you learn from that visualization. "
   ]
  },
  {
   "cell_type": "code",
   "execution_count": 46,
   "id": "802cb8ff",
   "metadata": {},
   "outputs": [],
   "source": [
    "# Fit your LDA model here\n",
    "\n",
    "lda_text_model = LatentDirichletAllocation(n_components = 5, random_state=42)\n",
    "W_lda_text_matrix = lda_text_model.fit_transform(count_text_vectors)\n",
    "H_lda_text_matrix = lda_text_model.components_"
   ]
  },
  {
   "cell_type": "code",
   "execution_count": 47,
   "id": "74f15272",
   "metadata": {},
   "outputs": [
    {
     "data": {
      "text/html": [
       "<div>\n",
       "<style scoped>\n",
       "    .dataframe tbody tr th:only-of-type {\n",
       "        vertical-align: middle;\n",
       "    }\n",
       "\n",
       "    .dataframe tbody tr th {\n",
       "        vertical-align: top;\n",
       "    }\n",
       "\n",
       "    .dataframe thead th {\n",
       "        text-align: right;\n",
       "    }\n",
       "</style>\n",
       "<table border=\"1\" class=\"dataframe\">\n",
       "  <thead>\n",
       "    <tr style=\"text-align: right;\">\n",
       "      <th></th>\n",
       "      <th>category</th>\n",
       "      <th>id</th>\n",
       "      <th>text</th>\n",
       "      <th>char_len</th>\n",
       "      <th>word_len</th>\n",
       "      <th>best_topic_nmf</th>\n",
       "      <th>best_topic_svd</th>\n",
       "      <th>best_topic_lda</th>\n",
       "    </tr>\n",
       "  </thead>\n",
       "  <tbody>\n",
       "    <tr>\n",
       "      <th>163</th>\n",
       "      <td>hobbies</td>\n",
       "      <td>ce34</td>\n",
       "      <td>In the period since the end of World War 2 , -...</td>\n",
       "      <td>13029</td>\n",
       "      <td>2300</td>\n",
       "      <td>Topic-2</td>\n",
       "      <td>Topic-0</td>\n",
       "      <td>Topic-0</td>\n",
       "    </tr>\n",
       "    <tr>\n",
       "      <th>27</th>\n",
       "      <td>government</td>\n",
       "      <td>ch01</td>\n",
       "      <td>The Office of Business Economics ( OBE ) of th...</td>\n",
       "      <td>14404</td>\n",
       "      <td>2416</td>\n",
       "      <td>Topic-2</td>\n",
       "      <td>Topic-0</td>\n",
       "      <td>Topic-3</td>\n",
       "    </tr>\n",
       "    <tr>\n",
       "      <th>121</th>\n",
       "      <td>romance</td>\n",
       "      <td>cp21</td>\n",
       "      <td>Two letters had arrived for Miss Theresa Stubb...</td>\n",
       "      <td>12592</td>\n",
       "      <td>2520</td>\n",
       "      <td>Topic-1</td>\n",
       "      <td>Topic-0</td>\n",
       "      <td>Topic-4</td>\n",
       "    </tr>\n",
       "    <tr>\n",
       "      <th>109</th>\n",
       "      <td>romance</td>\n",
       "      <td>cp09</td>\n",
       "      <td>`` And I'll take you with me '' . The two of t...</td>\n",
       "      <td>10469</td>\n",
       "      <td>2187</td>\n",
       "      <td>Topic-1</td>\n",
       "      <td>Topic-0</td>\n",
       "      <td>Topic-4</td>\n",
       "    </tr>\n",
       "    <tr>\n",
       "      <th>9</th>\n",
       "      <td>editorial</td>\n",
       "      <td>cb10</td>\n",
       "      <td>Miami , Fla. , March 17 . An out-of-town write...</td>\n",
       "      <td>11581</td>\n",
       "      <td>2298</td>\n",
       "      <td>Topic-4</td>\n",
       "      <td>Topic-0</td>\n",
       "      <td>Topic-0</td>\n",
       "    </tr>\n",
       "    <tr>\n",
       "      <th>67</th>\n",
       "      <td>news</td>\n",
       "      <td>ca11</td>\n",
       "      <td>Miami , Fla. , March 17 -- The Orioles tonight...</td>\n",
       "      <td>11914</td>\n",
       "      <td>2259</td>\n",
       "      <td>Topic-4</td>\n",
       "      <td>Topic-4</td>\n",
       "      <td>Topic-0</td>\n",
       "    </tr>\n",
       "    <tr>\n",
       "      <th>128</th>\n",
       "      <td>romance</td>\n",
       "      <td>cp28</td>\n",
       "      <td>Martin felt it was incredible that the situati...</td>\n",
       "      <td>11559</td>\n",
       "      <td>2339</td>\n",
       "      <td>Topic-1</td>\n",
       "      <td>Topic-0</td>\n",
       "      <td>Topic-4</td>\n",
       "    </tr>\n",
       "    <tr>\n",
       "      <th>84</th>\n",
       "      <td>news</td>\n",
       "      <td>ca28</td>\n",
       "      <td>Elburn , Ill. -- Farm machinery dealer Bob Hou...</td>\n",
       "      <td>12245</td>\n",
       "      <td>2220</td>\n",
       "      <td>Topic-2</td>\n",
       "      <td>Topic-0</td>\n",
       "      <td>Topic-2</td>\n",
       "    </tr>\n",
       "    <tr>\n",
       "      <th>159</th>\n",
       "      <td>hobbies</td>\n",
       "      <td>ce30</td>\n",
       "      <td>General How long has it been since you reviewe...</td>\n",
       "      <td>12981</td>\n",
       "      <td>2294</td>\n",
       "      <td>Topic-2</td>\n",
       "      <td>Topic-0</td>\n",
       "      <td>Topic-1</td>\n",
       "    </tr>\n",
       "    <tr>\n",
       "      <th>90</th>\n",
       "      <td>news</td>\n",
       "      <td>ca34</td>\n",
       "      <td>For crucial encounter One of the initial quest...</td>\n",
       "      <td>12524</td>\n",
       "      <td>2235</td>\n",
       "      <td>Topic-0</td>\n",
       "      <td>Topic-0</td>\n",
       "      <td>Topic-2</td>\n",
       "    </tr>\n",
       "  </tbody>\n",
       "</table>\n",
       "</div>"
      ],
      "text/plain": [
       "       category    id                                               text  \\\n",
       "163     hobbies  ce34  In the period since the end of World War 2 , -...   \n",
       "27   government  ch01  The Office of Business Economics ( OBE ) of th...   \n",
       "121     romance  cp21  Two letters had arrived for Miss Theresa Stubb...   \n",
       "109     romance  cp09  `` And I'll take you with me '' . The two of t...   \n",
       "9     editorial  cb10  Miami , Fla. , March 17 . An out-of-town write...   \n",
       "67         news  ca11  Miami , Fla. , March 17 -- The Orioles tonight...   \n",
       "128     romance  cp28  Martin felt it was incredible that the situati...   \n",
       "84         news  ca28  Elburn , Ill. -- Farm machinery dealer Bob Hou...   \n",
       "159     hobbies  ce30  General How long has it been since you reviewe...   \n",
       "90         news  ca34  For crucial encounter One of the initial quest...   \n",
       "\n",
       "     char_len  word_len best_topic_nmf best_topic_svd best_topic_lda  \n",
       "163     13029      2300        Topic-2        Topic-0        Topic-0  \n",
       "27      14404      2416        Topic-2        Topic-0        Topic-3  \n",
       "121     12592      2520        Topic-1        Topic-0        Topic-4  \n",
       "109     10469      2187        Topic-1        Topic-0        Topic-4  \n",
       "9       11581      2298        Topic-4        Topic-0        Topic-0  \n",
       "67      11914      2259        Topic-4        Topic-4        Topic-0  \n",
       "128     11559      2339        Topic-1        Topic-0        Topic-4  \n",
       "84      12245      2220        Topic-2        Topic-0        Topic-2  \n",
       "159     12981      2294        Topic-2        Topic-0        Topic-1  \n",
       "90      12524      2235        Topic-0        Topic-0        Topic-2  "
      ]
     },
     "metadata": {},
     "output_type": "display_data"
    },
    {
     "data": {
      "image/png": "[encoded data removed]",
      "text/plain": [
       "<Figure size 864x432 with 1 Axes>"
      ]
     },
     "metadata": {
      "needs_background": "light"
     },
     "output_type": "display_data"
    },
    {
     "data": {
      "image/png": "[encoded data removed]",
      "text/plain": [
       "<Figure size 864x432 with 1 Axes>"
      ]
     },
     "metadata": {
      "needs_background": "light"
     },
     "output_type": "display_data"
    }
   ],
   "source": [
    "df['best_topic_lda'] = W_lda_text_matrix.argmax(axis=1)\n",
    "df['best_topic_lda'] = df['best_topic_lda'].apply(lambda value: 'Topic-%s' % value)\n",
    "display(df.sample(10))\n",
    "\n",
    "summary_table_lda = create_charts_and_return_aggregate_df(df, 'best_topic_lda')  "
   ]
  },
  {
   "cell_type": "code",
   "execution_count": 48,
   "id": "ab18adf5",
   "metadata": {},
   "outputs": [
    {
     "data": {
      "text/html": [
       "<div>\n",
       "<style scoped>\n",
       "    .dataframe tbody tr th:only-of-type {\n",
       "        vertical-align: middle;\n",
       "    }\n",
       "\n",
       "    .dataframe tbody tr th {\n",
       "        vertical-align: top;\n",
       "    }\n",
       "\n",
       "    .dataframe thead th {\n",
       "        text-align: right;\n",
       "    }\n",
       "</style>\n",
       "<table border=\"1\" class=\"dataframe\">\n",
       "  <thead>\n",
       "    <tr style=\"text-align: right;\">\n",
       "      <th></th>\n",
       "      <th>Topic-0</th>\n",
       "      <th>Topic-1</th>\n",
       "      <th>Topic-2</th>\n",
       "      <th>Topic-3</th>\n",
       "      <th>Topic-4</th>\n",
       "    </tr>\n",
       "  </thead>\n",
       "  <tbody>\n",
       "    <tr>\n",
       "      <th>0</th>\n",
       "      <td>right</td>\n",
       "      <td>development</td>\n",
       "      <td>mr</td>\n",
       "      <td>general</td>\n",
       "      <td>man</td>\n",
       "    </tr>\n",
       "    <tr>\n",
       "      <th>1</th>\n",
       "      <td>game</td>\n",
       "      <td>states</td>\n",
       "      <td>president</td>\n",
       "      <td>business</td>\n",
       "      <td>little</td>\n",
       "    </tr>\n",
       "    <tr>\n",
       "      <th>2</th>\n",
       "      <td>way</td>\n",
       "      <td>program</td>\n",
       "      <td>state</td>\n",
       "      <td>property</td>\n",
       "      <td>old</td>\n",
       "    </tr>\n",
       "    <tr>\n",
       "      <th>3</th>\n",
       "      <td>set</td>\n",
       "      <td>use</td>\n",
       "      <td>mrs</td>\n",
       "      <td>shall</td>\n",
       "      <td>good</td>\n",
       "    </tr>\n",
       "  </tbody>\n",
       "</table>\n",
       "</div>"
      ],
      "text/plain": [
       "  Topic-0      Topic-1    Topic-2   Topic-3 Topic-4\n",
       "0   right  development         mr   general     man\n",
       "1    game       states  president  business  little\n",
       "2     way      program      state  property     old\n",
       "3     set          use        mrs     shall    good"
      ]
     },
     "metadata": {},
     "output_type": "display_data"
    }
   ],
   "source": [
    "# Call `display_topics` on your fitted model here\n",
    "curpus_model_lda = CorpusModel(lda_text_model.components_, count_text_vectorizer.get_feature_names())"
   ]
  },
  {
   "cell_type": "markdown",
   "id": "f2c67876",
   "metadata": {},
   "source": [
    "Q: What inference do you draw from the displayed topics for your LDA model? \n",
    "\n",
    "A: The words within each topic are totally different comapred to before. <br>\n",
    "Also, The distinction in this new set of topics are not as useful to human eyes <br>\n",
    "(i.e. the topics are not as intuitive as the previous version)\n",
    "\n",
    "Q: Repeat the tallying of Brown categories within your topics. How does your five-topic LDA model compare to the original Brown categories? \n",
    "\n",
    "A: It makes sense to have words in Topic-1 (like development, states, program) in goverment documents.<br>\n",
    "Same scenario can be observed with Topic-2 which has words like president in editorial documents.<br>\n",
    "This is a good indicator, telling us that the LDA model works."
   ]
  },
  {
   "cell_type": "code",
   "execution_count": 49,
   "id": "6aae75ca",
   "metadata": {},
   "outputs": [
    {
     "name": "stderr",
     "output_type": "stream",
     "text": [
      "/Users/nima/opt/anaconda3/lib/python3.9/site-packages/past/builtins/misc.py:45: DeprecationWarning: the imp module is deprecated in favour of importlib; see the module's documentation for alternative uses\n",
      "  from imp import reload\n",
      "/Users/nima/opt/anaconda3/lib/python3.9/site-packages/past/builtins/misc.py:45: DeprecationWarning: the imp module is deprecated in favour of importlib; see the module's documentation for alternative uses\n",
      "  from imp import reload\n",
      "/Users/nima/opt/anaconda3/lib/python3.9/site-packages/past/builtins/misc.py:45: DeprecationWarning: the imp module is deprecated in favour of importlib; see the module's documentation for alternative uses\n",
      "  from imp import reload\n",
      "/Users/nima/opt/anaconda3/lib/python3.9/site-packages/past/builtins/misc.py:45: DeprecationWarning: the imp module is deprecated in favour of importlib; see the module's documentation for alternative uses\n",
      "  from imp import reload\n",
      "/Users/nima/opt/anaconda3/lib/python3.9/site-packages/past/builtins/misc.py:45: DeprecationWarning: the imp module is deprecated in favour of importlib; see the module's documentation for alternative uses\n",
      "  from imp import reload\n",
      "/Users/nima/opt/anaconda3/lib/python3.9/site-packages/past/builtins/misc.py:45: DeprecationWarning: the imp module is deprecated in favour of importlib; see the module's documentation for alternative uses\n",
      "  from imp import reload\n",
      "/Users/nima/opt/anaconda3/lib/python3.9/site-packages/past/builtins/misc.py:45: DeprecationWarning: the imp module is deprecated in favour of importlib; see the module's documentation for alternative uses\n",
      "  from imp import reload\n",
      "/Users/nima/opt/anaconda3/lib/python3.9/site-packages/past/builtins/misc.py:45: DeprecationWarning: the imp module is deprecated in favour of importlib; see the module's documentation for alternative uses\n",
      "  from imp import reload\n",
      "/Users/nima/opt/anaconda3/lib/python3.9/site-packages/past/builtins/misc.py:45: DeprecationWarning: the imp module is deprecated in favour of importlib; see the module's documentation for alternative uses\n",
      "  from imp import reload\n"
     ]
    }
   ],
   "source": [
    "lda_display = pyLDAvis.sklearn.prepare(lda_text_model, count_text_vectors, count_text_vectorizer, sort_topics=False)"
   ]
  },
  {
   "cell_type": "code",
   "execution_count": 50,
   "id": "2a89fc15",
   "metadata": {},
   "outputs": [
    {
     "data": {
      "text/html": [
       "\n",
       "<link rel=\"stylesheet\" type=\"text/css\" href=\"https://cdn.jsdelivr.net/gh/bmabey/pyLDAvis@3.3.1/pyLDAvis/js/ldavis.v1.0.0.css\">\n",
       "\n",
       "\n",
       "<div id=\"ldavis_el148191406927977802569162063563\"></div>\n",
       "<script type=\"text/javascript\">\n",
       "\n",
       "var ldavis_el148191406927977802569162063563_data = {\"mdsDat\": {\"x\": [-0.08904549103408618, 0.1239364492508881, 0.025500167589226807, 0.15979135455241325, -0.2201824803584422], \"y\": [0.1613561745541382, -0.009252658807314415, -0.048092367940470865, -0.016212399453421122, -0.08779874835293178], \"topics\": [1, 2, 3, 4, 5], \"cluster\": [1, 1, 1, 1, 1], \"Freq\": [17.44727507668691, 24.24591072579852, 32.831236255960825, 7.470347983418886, 18.005229958134848]}, \"tinfo\": {\"Term\": [\"said\", \"government\", \"general\", \"feed\", \"business\", \"united\", \"state\", \"states\", \"shall\", \"property\", \"department\", \"development\", \"act\", \"john\", \"didn\", \"tax\", \"ll\", \"thought\", \"mother\", \"president\", \"little\", \"board\", \"small\", \"local\", \"shelter\", \"don\", \"man\", \"old\", \"kennedy\", \"court\", \"player\", \"baseball\", \"panels\", \"leg\", \"yards\", \"yankees\", \"holes\", \"gallery\", \"vernon\", \"coach\", \"charlie\", \"plastic\", \"hits\", \"ball\", \"pittsburgh\", \"favorite\", \"runs\", \"pitcher\", \"hole\", \"pitching\", \"team\", \"paint\", \"stadium\", \"ruth\", \"willie\", \"bat\", \"homer\", \"amateur\", \"paintings\", \"chest\", \"pieces\", \"games\", \"cooling\", \"drill\", \"roy\", \"clay\", \"game\", \"bob\", \"golf\", \"season\", \"inch\", \"football\", \"playing\", \"hit\", \"frame\", \"piece\", \"league\", \"fig\", \"signs\", \"club\", \"cut\", \"junior\", \"play\", \"green\", \"run\", \"center\", \"home\", \"set\", \"won\", \"right\", \"place\", \"don\", \"second\", \"way\", \"house\", \"ll\", \"good\", \"work\", \"class\", \"mrs\", \"use\", \"left\", \"high\", \"better\", \"best\", \"said\", \"textile\", \"participation\", \"employee\", \"musical\", \"publications\", \"faculty\", \"forests\", \"recreation\", \"inventory\", \"interior\", \"fiscal\", \"producers\", \"imports\", \"creative\", \"designers\", \"maintain\", \"evaluation\", \"academic\", \"depreciation\", \"exceed\", \"coverage\", \"laboratories\", \"curriculum\", \"engineers\", \"expenditures\", \"comprehensive\", \"locations\", \"educated\", \"resources\", \"fishing\", \"rhode\", \"organizations\", \"vehicles\", \"india\", \"development\", \"projects\", \"library\", \"activities\", \"technical\", \"pool\", \"planning\", \"published\", \"import\", \"management\", \"site\", \"island\", \"plant\", \"medical\", \"bridge\", \"state\", \"research\", \"program\", \"industrial\", \"1960\", \"available\", \"corps\", \"system\", \"use\", \"production\", \"states\", \"period\", \"services\", \"important\", \"area\", \"interest\", \"national\", \"united\", \"work\", \"000\", \"service\", \"college\", \"water\", \"company\", \"government\", \"american\", \"business\", \"public\", \"high\", \"kennedy\", \"nuclear\", \"soviet\", \"khrushchev\", \"laos\", \"berlin\", \"congo\", \"republican\", \"moscow\", \"cuba\", \"weapons\", \"senate\", \"castro\", \"sen\", \"charter\", \"troops\", \"hughes\", \"premier\", \"communism\", \"democrats\", \"communists\", \"election\", \"aug\", \"welfare\", \"gen\", \"republicans\", \"katanga\", \"bombs\", \"police\", \"communist\", \"democratic\", \"rayburn\", \"georgia\", \"leader\", \"russia\", \"vote\", \"political\", \"jury\", \"president\", \"committee\", \"mr\", \"mayor\", \"county\", \"party\", \"council\", \"war\", \"mrs\", \"city\", \"meeting\", \"said\", \"east\", \"west\", \"yesterday\", \"nations\", \"000\", \"military\", \"administration\", \"school\", \"state\", \"american\", \"government\", \"public\", \"united\", \"people\", \"week\", \"world\", \"house\", \"states\", \"members\", \"john\", \"national\", \"program\", \"man\", \"home\", \"recommendation\", \"motors\", \"thereof\", \"boats\", \"shelter\", \"feed\", \"cattle\", \"interference\", \"chemical\", \"assessment\", \"catastrophe\", \"boat\", \"tangible\", \"engine\", \"stockholders\", \"conversion\", \"electricity\", \"claim\", \"property\", \"stations\", \"ratio\", \"accommodate\", \"farmers\", \"concrete\", \"battery\", \"pound\", \"blocks\", \"claims\", \"manufactured\", \"63\", \"loans\", \"officer\", \"credit\", \"trust\", \"shall\", \"farm\", \"respect\", \"laws\", \"general\", \"act\", \"business\", \"department\", \"stock\", \"hearing\", \"daily\", \"john\", \"small\", \"government\", \"local\", \"class\", \"board\", \"tax\", \"united\", \"court\", \"policy\", \"service\", \"states\", \"report\", \"head\", \"secretary\", \"pale\", \"smiled\", \"hadn\", \"hair\", \"listening\", \"shoes\", \"loved\", \"hell\", \"sick\", \"liked\", \"mother\", \"stared\", \"heel\", \"wondered\", \"smile\", \"tongue\", \"laughed\", \"handsome\", \"silent\", \"looked\", \"strange\", \"lips\", \"till\", \"dad\", \"dear\", \"fountain\", \"puerto\", \"rico\", \"susan\", \"nodded\", \"wasn\", \"couldn\", \"love\", \"sat\", \"didn\", \"eyes\", \"baby\", \"woman\", \"thought\", \"stood\", \"yes\", \"child\", \"wouldn\", \"knew\", \"alexander\", \"went\", \"father\", \"voice\", \"bed\", \"door\", \"felt\", \"girl\", \"got\", \"know\", \"god\", \"little\", \"said\", \"young\", \"came\", \"ll\", \"away\", \"old\", \"man\", \"boy\", \"come\", \"going\", \"don\", \"let\", \"thing\", \"good\", \"life\", \"way\", \"look\", \"day\", \"asked\", \"people\", \"think\", \"night\"], \"Freq\": [793.0, 274.0, 197.0, 90.0, 207.0, 301.0, 493.0, 334.0, 123.0, 91.0, 155.0, 202.0, 128.0, 165.0, 123.0, 176.0, 165.0, 138.0, 96.0, 298.0, 236.0, 173.0, 207.0, 127.0, 55.0, 175.0, 280.0, 251.0, 131.0, 106.0, 46.90061738279506, 38.320191958750875, 32.601476249192984, 27.831525211454046, 25.92923367532794, 24.965651021853574, 21.16277883221046, 21.155429552015473, 19.254389784454826, 21.947937942988, 18.28062873688693, 24.504910875563414, 15.442227275155325, 59.068237809240884, 15.429350272859361, 15.429775935704036, 38.06692470201908, 14.482031649232388, 35.292612040869614, 13.535621759504727, 53.265751957112826, 13.516253246233765, 12.582744451574852, 12.582358303937438, 12.582206179585157, 12.58008370505631, 12.579537857165416, 12.577344934489323, 12.576735754565965, 18.818378791886797, 48.98101977616401, 28.516446892422927, 34.18539770126023, 30.685701114865754, 20.2967793639096, 70.9271039122293, 76.42101603091825, 21.859355384655014, 24.064317493411192, 55.75253195087139, 55.41576812531225, 23.176638782391727, 32.95509315449168, 45.29595924457111, 32.17680895813644, 45.65789699624378, 44.088003270410255, 26.8560711801154, 30.029049163988482, 68.24415837156756, 61.47380111399622, 44.515827629215146, 45.17975584948409, 41.74182728863278, 61.56050618593918, 53.248518285571286, 99.24831428743134, 73.15486854806124, 49.90191872032121, 77.17424013092665, 71.06844436634573, 67.45444118433433, 54.795758071218756, 73.85743200897505, 66.50953757158264, 58.07101352684888, 68.4539087110383, 64.72256586429437, 48.05347075701574, 59.567487890086156, 57.07727059133189, 52.34860935735938, 52.823557510265985, 50.68205733687958, 49.36909901937088, 51.04430480221148, 28.305925725072374, 24.424933130164774, 24.416582541428465, 20.544465245197703, 19.577791969757886, 51.22952404642788, 15.703268535408935, 34.959107438323265, 16.49902310202587, 39.419613631490904, 105.7163191701696, 10.84315022288776, 10.84319196188187, 15.366030813907907, 10.837350150282669, 18.966346585386376, 8.90980287447348, 27.52900985489836, 8.858011680160265, 14.16026488044912, 12.377114435979706, 7.945091103923983, 7.944499146179812, 26.49844918764264, 24.601887270428175, 6.979551908378144, 6.977825659837775, 6.961783314860128, 35.520402490741915, 16.499841358692887, 77.51764253547472, 34.380580535594355, 38.77975209703734, 33.56659824328096, 171.06640326090897, 47.605819797724074, 40.70073357657622, 50.99879715314322, 50.77495370211014, 65.6220538930997, 69.98216493822918, 23.882312072832725, 22.226309066144587, 67.03066445066776, 43.60889749862128, 90.07056610828103, 63.12724053593308, 76.72074181207206, 42.11578377574366, 269.2874548085998, 75.01508583602293, 137.83429234631996, 58.36202478028894, 85.25628829194976, 78.64673686400508, 55.994662475404645, 88.49431784587514, 132.01586015801342, 59.776284645262315, 153.87030346475484, 66.51941709764561, 61.0443870122812, 68.1503425826707, 75.4591860064805, 71.6356213776127, 89.85286077004895, 100.30627971606535, 89.75509366471269, 91.20163096512687, 79.78955096407319, 66.59945264744312, 70.94711198308076, 66.17064226428698, 76.07309911925284, 73.78709559466968, 70.73831575986408, 68.82940026130599, 67.17454331593059, 130.55798857848066, 78.2831623099578, 80.15534955730658, 72.42766617967007, 49.975458223756206, 64.32886075217466, 43.14414848886359, 39.239211381294986, 37.28723205542037, 37.28516229185795, 33.38117353053979, 50.481868098471566, 29.478116066043494, 29.472070136194162, 27.52447842099428, 26.54656756146542, 24.59810024118516, 24.59746362742042, 28.366359331598453, 23.621534418463426, 23.621514707273207, 53.85156123257411, 22.634993277198756, 28.289427952000683, 21.667875350260555, 19.71722536869709, 19.715333295353982, 18.73929886285083, 44.95663417155408, 71.08883786921638, 58.67263564973987, 44.72731796352679, 41.01186311970625, 40.961178070026364, 42.754943558007035, 53.260048495564824, 77.66451404221988, 45.99694390738244, 256.68330871272093, 100.13108356008047, 299.58693696212293, 41.66774583018284, 89.54950650704207, 88.25087010038452, 63.24650314300965, 111.54997230255438, 196.81181942003528, 146.64337665669547, 77.42239713159192, 381.8436104074135, 75.4505497215496, 81.9264543905475, 54.33565818383028, 64.87072201972045, 157.17128924834793, 86.05398991963601, 90.4144620254475, 105.34110373746256, 200.51010750114835, 135.26728212749595, 136.36311808125174, 113.67484428167833, 143.13046428521668, 131.39357181060302, 102.30539146482386, 118.03946916863129, 110.80907382496767, 127.51280528548051, 85.81571642208247, 87.78699173276499, 90.85601777434385, 90.58171583241334, 91.80600480969744, 85.06904723383822, 17.17819215438883, 41.106603251949686, 10.842304100261593, 34.163410197619626, 51.60931009286673, 83.8713162928101, 16.961910390036383, 28.58624153789297, 21.559437024413374, 13.89206576184856, 4.315888104638053, 31.35339840756016, 10.914009441186575, 20.294080229061787, 14.366234414437157, 9.085753040663919, 8.384577507961762, 29.567935466297733, 63.98267165592556, 39.570851043849125, 13.310226929816167, 4.413536328938415, 11.812101414289787, 15.434840879722627, 8.542015318965708, 16.2144379658452, 13.141859292913459, 18.565904999623395, 5.376394928937678, 4.116116220725692, 18.870983705821253, 31.16195358873161, 23.43723953138872, 22.32431541968062, 62.11460505547211, 21.88716214046138, 25.334996433955613, 25.163041987260375, 68.32523030674894, 48.38785301732633, 65.54843990630175, 49.311286436946155, 31.930065536053124, 24.89563501926967, 25.299699763187505, 45.592371150114154, 50.87805430915124, 58.51478612185179, 39.1277438857225, 33.69960885418389, 42.051782087076184, 42.1598872290843, 51.062592292503915, 32.48766108442147, 30.13918052121703, 37.846989716115075, 43.12969271026159, 26.447916361014165, 27.322591717133903, 26.95020427962087, 26.223972084815507, 26.223125676036215, 30.807720714277085, 34.29585524073732, 18.509420935971903, 18.506600131978924, 17.54612923480969, 15.616621370254812, 15.616011782791306, 14.65238204542635, 91.65336955100088, 14.64072459551212, 14.616591009698476, 13.687751571357206, 13.684077201385547, 13.68156895666265, 12.722342624999982, 15.422502005302235, 11.76099454956639, 79.5965325943806, 15.32560061588912, 10.79880247809887, 10.795549117390268, 10.79056676812816, 10.790934402604197, 10.789337946981782, 18.783165780481898, 18.782934478517653, 25.06675001505225, 9.830940284581827, 53.62872441597581, 49.06544191651008, 55.025465700604414, 34.66268537557111, 110.3847009334586, 86.73179772095605, 32.36544188429683, 48.68000455264939, 115.39167767292913, 42.39388244533551, 35.8036533558942, 56.41316348295644, 36.29765011663906, 72.907425195642, 22.679581977802144, 99.56843254895286, 50.257351293165435, 40.32391391324263, 30.457366445791607, 53.59719233693801, 66.88466514659389, 37.33179687081797, 97.33786957462691, 118.80837727344333, 48.24708939329569, 140.00647011714835, 351.1814087885007, 87.76999255278108, 100.05581404207004, 99.33034907589857, 79.03211438555681, 131.78047747147627, 140.16148159356473, 58.442756001484554, 102.08235138043351, 81.29417470698691, 95.25692500726039, 74.88672246223325, 64.23603254057328, 119.13152483850332, 82.15193418702785, 100.34242550525892, 70.9595313673357, 99.45093278293267, 68.27580654754782, 87.43700324028745, 69.72423847300398, 68.29549271581855], \"Total\": [793.0, 274.0, 197.0, 90.0, 207.0, 301.0, 493.0, 334.0, 123.0, 91.0, 155.0, 202.0, 128.0, 165.0, 123.0, 176.0, 165.0, 138.0, 96.0, 298.0, 236.0, 173.0, 207.0, 127.0, 55.0, 175.0, 280.0, 251.0, 131.0, 106.0, 47.66435300694072, 39.08449237122962, 33.36452797395764, 28.597992925746357, 26.69131076360636, 25.738143827757185, 21.924682233249236, 21.92481758103476, 20.018096873595056, 22.880883003207938, 19.065014116945687, 25.709666737501678, 16.20480607985348, 61.988572732105276, 16.204394517781484, 16.20489085728512, 40.0582560927807, 15.251554624872261, 37.190657020473566, 14.298157118147177, 56.28168009499059, 14.298523621335804, 13.344838599195482, 13.344843079876597, 13.34483952655135, 13.344862169537437, 13.344899633086335, 13.344939833001602, 13.344930852856582, 20.028426619099193, 52.39496639966849, 30.51959144721897, 37.20925808553474, 33.40360988757226, 21.93462883226283, 81.139034252099, 88.7710911722732, 23.859328205313656, 26.714928402944267, 66.76963227458805, 67.14937119000078, 25.780980704131238, 39.087308583414675, 57.42506489349284, 38.23781272055413, 60.32370987759944, 59.39162196779933, 31.223974591614805, 36.3544297138361, 110.39094009275044, 97.00956488697166, 64.01392047945929, 66.04973567917791, 61.32170923668706, 117.88826919757676, 93.23398979469344, 264.6635621508044, 168.10523589933345, 87.32555005639998, 211.53755012135645, 188.18760422508646, 175.54834026912, 122.2007891407095, 273.01938601456925, 231.7160030213157, 165.2567983044055, 306.47272024823735, 259.6511321710866, 97.21507091062826, 305.43622983849264, 255.68608958646598, 160.697669506846, 219.23861867225745, 158.86513520952576, 138.31978127631663, 793.1980625140218, 29.066277834701815, 25.18821601278145, 25.187425430065534, 21.310435117003863, 20.34069916976693, 53.311980761785655, 16.46303713004142, 36.73950920168951, 17.41923690830376, 41.64436812342548, 112.46771652014843, 11.615241615072803, 11.61568117491474, 16.465355095652935, 11.615444194120283, 20.345024378932067, 9.676277631083911, 30.047459886281505, 9.676528342844204, 15.489464864639515, 13.557378463278031, 8.707277541875063, 8.707210774621512, 29.058477697581353, 27.139427910242308, 7.737949798815953, 7.737860506987807, 7.737897552736289, 39.48906554376952, 18.395763377437373, 86.93927376656626, 38.537564131751225, 43.53651361214196, 37.81484319199798, 202.54345953668206, 54.289103915096774, 46.489141757787245, 58.872987834803155, 59.057039593125545, 78.44349545891599, 86.15500553198643, 27.14422776186404, 25.152542211811994, 85.4480242018979, 53.18898347487019, 120.69243365827361, 81.17637891156805, 102.74489704878327, 52.16582048185017, 493.62537576096986, 104.64650009037041, 234.15281293863572, 79.30368946288411, 130.85965117021212, 120.50229372173824, 76.67837338800332, 144.03487318158008, 255.68608958646598, 84.94096130626143, 334.6090934747792, 100.26523677017718, 95.46666258152942, 116.54560425434008, 146.6387894750848, 134.87934177696746, 215.76386447134658, 301.11435465212764, 259.6511321710866, 283.73773404804894, 204.71415487286393, 125.01374970261897, 162.35101162081662, 139.20063760686725, 274.2920039619519, 263.627491813204, 207.05856226204003, 202.12176262528675, 219.23861867225745, 131.74744694320313, 79.04169172167217, 80.99298021478873, 73.18495123391354, 50.734050163219635, 65.35199596575517, 43.90119445536839, 39.996680953194115, 38.04442253897733, 38.044408298428216, 34.13989417338398, 51.70571903782869, 30.235427051212064, 30.234936155226134, 28.283157414718254, 27.30700265152176, 25.354806496723164, 25.35477513055235, 29.258280708044058, 24.378674890125275, 24.378670527073805, 55.59125568724588, 23.40173955469423, 29.257207622704758, 22.426402188945175, 20.474173695740916, 20.474115528689588, 19.498022721083398, 46.82195912250452, 74.1397878588392, 61.457501661240435, 46.81317161844798, 42.91715478224245, 42.89665200500997, 44.86776847478227, 56.465180883003015, 83.75605493543976, 48.75710006406647, 298.0049253740505, 111.1695446330041, 388.949057313773, 44.816808509298205, 105.2940563033176, 108.99175405552208, 73.9346789209911, 146.94695472971077, 305.43622983849264, 215.50738617088146, 98.07230972170906, 793.1980625140218, 95.30910098855256, 106.76662465986621, 62.3159392055177, 79.91343885868763, 283.73773404804894, 123.46464847790253, 133.10411493977062, 172.87352126817882, 493.62537576096986, 263.627491813204, 274.2920039619519, 202.12176262528675, 301.11435465212764, 265.38333183383327, 188.8314803304811, 255.82115900738142, 231.7160030213157, 334.6090934747792, 141.9308841452143, 165.0858665121466, 215.76386447134658, 234.15281293863572, 280.6051549180669, 264.6635621508044, 17.961121314259355, 43.12194604653743, 11.700075655514397, 36.90569403096407, 55.845508123933556, 90.9061606172057, 19.90878972846609, 34.476775955340926, 26.335730556568716, 17.2820243611652, 5.45580107799939, 39.998919013714385, 14.622982316965322, 28.351111087163112, 20.167632226739737, 12.810231836101332, 11.911588284586049, 42.153464388229345, 91.75925342616218, 56.932884793939685, 19.25248222932817, 6.423512756744691, 17.469779612267228, 22.959421024424792, 12.803104188002457, 24.696805696968635, 20.138418395357373, 28.522111995551114, 8.276134489824834, 6.441695690297924, 30.45689408364979, 51.78874668622452, 38.817577168155275, 37.0175318064185, 123.83285098432773, 37.98222346660751, 46.37530083851881, 47.48340486956439, 197.37841645995582, 128.93242528505604, 207.05856226204003, 155.2374171283645, 75.70146992373199, 50.32454706527668, 52.3075892230578, 165.0858665121466, 207.4386727106455, 274.2920039619519, 127.82948794710158, 97.21507091062826, 173.0630037424416, 176.23689119465016, 301.11435465212764, 106.26131396540308, 92.75698836431357, 204.71415487286393, 334.6090934747792, 88.1620215799037, 132.7324941720114, 121.30035314519795, 26.98571885013832, 26.985740113031238, 31.804157090501334, 35.65690093636523, 19.27195993903882, 19.27192878191268, 18.307756487420352, 16.379241516888623, 16.379216173724885, 15.415029062860143, 96.45899309675671, 15.414880981580335, 15.415264817709462, 14.450711190669239, 14.45076388443409, 14.45086363233152, 13.48630019049623, 16.37704240043869, 12.522303359993158, 84.88269641041094, 16.382867022120134, 11.558146294110985, 11.55794978015958, 11.557639126610658, 11.558162833175265, 11.55805158701476, 20.22402689990838, 20.224030361398185, 26.999578613815146, 10.593890181544438, 57.85865846732311, 53.03037228884843, 59.81156820696328, 37.61195313858662, 123.42688522657299, 97.3911799585761, 35.694986179152686, 54.952476698991525, 138.69837865089414, 48.25759988223431, 40.48732403924648, 66.60739113340793, 41.496204217796624, 89.53364153849787, 25.073035349115052, 135.94578054290608, 62.782029946326574, 49.245742711821414, 35.63708879050527, 69.45977814175697, 90.79523483151361, 45.38786301885669, 145.50569633380383, 189.70420918103272, 62.82940619342611, 236.30079058658131, 793.1980625140218, 135.29814974627877, 161.03398411558877, 165.2567983044055, 122.54615448701323, 251.92407677669954, 280.6051549180669, 81.83629935183649, 184.361898693637, 132.47185180074928, 175.54834026912, 121.46569418607588, 95.39493602342318, 306.47272024823735, 161.43605560562384, 273.01938601456925, 129.09915082589353, 301.1134031707985, 117.84170377486383, 265.38333183383327, 132.80996956479672, 150.0499610240289], \"Category\": [\"Default\", \"Default\", \"Default\", \"Default\", \"Default\", \"Default\", \"Default\", \"Default\", \"Default\", \"Default\", \"Default\", \"Default\", \"Default\", \"Default\", \"Default\", \"Default\", \"Default\", \"Default\", \"Default\", \"Default\", \"Default\", \"Default\", \"Default\", \"Default\", \"Default\", \"Default\", \"Default\", \"Default\", \"Default\", \"Default\", \"Topic1\", \"Topic1\", \"Topic1\", \"Topic1\", \"Topic1\", \"Topic1\", \"Topic1\", \"Topic1\", \"Topic1\", \"Topic1\", \"Topic1\", \"Topic1\", \"Topic1\", \"Topic1\", \"Topic1\", \"Topic1\", \"Topic1\", \"Topic1\", \"Topic1\", \"Topic1\", \"Topic1\", \"Topic1\", \"Topic1\", \"Topic1\", \"Topic1\", \"Topic1\", \"Topic1\", \"Topic1\", \"Topic1\", \"Topic1\", \"Topic1\", \"Topic1\", \"Topic1\", \"Topic1\", \"Topic1\", \"Topic1\", \"Topic1\", \"Topic1\", \"Topic1\", \"Topic1\", \"Topic1\", \"Topic1\", \"Topic1\", \"Topic1\", \"Topic1\", \"Topic1\", \"Topic1\", \"Topic1\", \"Topic1\", \"Topic1\", \"Topic1\", \"Topic1\", \"Topic1\", \"Topic1\", \"Topic1\", \"Topic1\", \"Topic1\", \"Topic1\", \"Topic1\", \"Topic1\", \"Topic1\", \"Topic1\", \"Topic1\", \"Topic1\", \"Topic1\", \"Topic1\", \"Topic1\", \"Topic1\", \"Topic1\", \"Topic1\", \"Topic1\", \"Topic1\", \"Topic1\", \"Topic1\", \"Topic1\", \"Topic1\", \"Topic2\", \"Topic2\", \"Topic2\", \"Topic2\", \"Topic2\", \"Topic2\", \"Topic2\", \"Topic2\", \"Topic2\", \"Topic2\", \"Topic2\", \"Topic2\", \"Topic2\", \"Topic2\", \"Topic2\", \"Topic2\", \"Topic2\", \"Topic2\", \"Topic2\", \"Topic2\", \"Topic2\", \"Topic2\", \"Topic2\", \"Topic2\", \"Topic2\", \"Topic2\", \"Topic2\", \"Topic2\", \"Topic2\", \"Topic2\", \"Topic2\", \"Topic2\", \"Topic2\", \"Topic2\", \"Topic2\", \"Topic2\", \"Topic2\", \"Topic2\", \"Topic2\", \"Topic2\", \"Topic2\", \"Topic2\", \"Topic2\", \"Topic2\", \"Topic2\", \"Topic2\", \"Topic2\", \"Topic2\", \"Topic2\", \"Topic2\", \"Topic2\", \"Topic2\", \"Topic2\", \"Topic2\", \"Topic2\", \"Topic2\", \"Topic2\", \"Topic2\", \"Topic2\", \"Topic2\", \"Topic2\", \"Topic2\", \"Topic2\", \"Topic2\", \"Topic2\", \"Topic2\", \"Topic2\", \"Topic2\", \"Topic2\", \"Topic2\", \"Topic2\", \"Topic2\", \"Topic2\", \"Topic2\", \"Topic2\", \"Topic2\", \"Topic2\", \"Topic2\", \"Topic3\", \"Topic3\", \"Topic3\", \"Topic3\", \"Topic3\", \"Topic3\", \"Topic3\", \"Topic3\", \"Topic3\", \"Topic3\", \"Topic3\", \"Topic3\", \"Topic3\", \"Topic3\", \"Topic3\", \"Topic3\", \"Topic3\", \"Topic3\", \"Topic3\", \"Topic3\", \"Topic3\", \"Topic3\", \"Topic3\", \"Topic3\", \"Topic3\", \"Topic3\", \"Topic3\", \"Topic3\", \"Topic3\", \"Topic3\", \"Topic3\", \"Topic3\", \"Topic3\", \"Topic3\", \"Topic3\", \"Topic3\", \"Topic3\", \"Topic3\", \"Topic3\", \"Topic3\", \"Topic3\", \"Topic3\", \"Topic3\", \"Topic3\", \"Topic3\", \"Topic3\", \"Topic3\", \"Topic3\", \"Topic3\", \"Topic3\", \"Topic3\", \"Topic3\", \"Topic3\", \"Topic3\", \"Topic3\", \"Topic3\", \"Topic3\", \"Topic3\", \"Topic3\", \"Topic3\", \"Topic3\", \"Topic3\", \"Topic3\", \"Topic3\", \"Topic3\", \"Topic3\", \"Topic3\", \"Topic3\", \"Topic3\", \"Topic3\", \"Topic3\", \"Topic3\", \"Topic3\", \"Topic3\", \"Topic4\", \"Topic4\", \"Topic4\", \"Topic4\", \"Topic4\", \"Topic4\", \"Topic4\", \"Topic4\", \"Topic4\", \"Topic4\", \"Topic4\", \"Topic4\", \"Topic4\", \"Topic4\", \"Topic4\", \"Topic4\", \"Topic4\", \"Topic4\", \"Topic4\", \"Topic4\", \"Topic4\", \"Topic4\", \"Topic4\", \"Topic4\", \"Topic4\", \"Topic4\", \"Topic4\", \"Topic4\", \"Topic4\", \"Topic4\", \"Topic4\", \"Topic4\", \"Topic4\", \"Topic4\", \"Topic4\", \"Topic4\", \"Topic4\", \"Topic4\", \"Topic4\", \"Topic4\", \"Topic4\", \"Topic4\", \"Topic4\", \"Topic4\", \"Topic4\", \"Topic4\", \"Topic4\", \"Topic4\", \"Topic4\", \"Topic4\", \"Topic4\", \"Topic4\", \"Topic4\", \"Topic4\", \"Topic4\", \"Topic4\", \"Topic4\", \"Topic4\", \"Topic4\", \"Topic4\", \"Topic5\", \"Topic5\", \"Topic5\", \"Topic5\", \"Topic5\", \"Topic5\", \"Topic5\", \"Topic5\", \"Topic5\", \"Topic5\", \"Topic5\", \"Topic5\", \"Topic5\", \"Topic5\", \"Topic5\", \"Topic5\", \"Topic5\", \"Topic5\", \"Topic5\", \"Topic5\", \"Topic5\", \"Topic5\", \"Topic5\", \"Topic5\", \"Topic5\", \"Topic5\", \"Topic5\", \"Topic5\", \"Topic5\", \"Topic5\", \"Topic5\", \"Topic5\", \"Topic5\", \"Topic5\", \"Topic5\", \"Topic5\", \"Topic5\", \"Topic5\", \"Topic5\", \"Topic5\", \"Topic5\", \"Topic5\", \"Topic5\", \"Topic5\", \"Topic5\", \"Topic5\", \"Topic5\", \"Topic5\", \"Topic5\", \"Topic5\", \"Topic5\", \"Topic5\", \"Topic5\", \"Topic5\", \"Topic5\", \"Topic5\", \"Topic5\", \"Topic5\", \"Topic5\", \"Topic5\", \"Topic5\", \"Topic5\", \"Topic5\", \"Topic5\", \"Topic5\", \"Topic5\", \"Topic5\", \"Topic5\", \"Topic5\", \"Topic5\", \"Topic5\", \"Topic5\", \"Topic5\", \"Topic5\", \"Topic5\", \"Topic5\", \"Topic5\", \"Topic5\"], \"logprob\": [30.0, 29.0, 28.0, 27.0, 26.0, 25.0, 24.0, 23.0, 22.0, 21.0, 20.0, 19.0, 18.0, 17.0, 16.0, 15.0, 14.0, 13.0, 12.0, 11.0, 10.0, 9.0, 8.0, 7.0, 6.0, 5.0, 4.0, 3.0, 2.0, 1.0, -6.1393, -6.3414, -6.503, -6.6612, -6.732, -6.7699, -6.9351, -6.9355, -7.0296, -6.8987, -7.0815, -6.7885, -7.2503, -5.9087, -7.2511, -7.2511, -6.348, -7.3145, -6.4237, -7.382, -6.0121, -7.3835, -7.455, -7.4551, -7.4551, -7.4553, -7.4553, -7.4555, -7.4555, -7.0525, -6.0959, -6.6369, -6.4556, -6.5636, -6.9769, -5.7257, -5.6511, -6.9027, -6.8066, -5.9665, -5.9725, -6.8442, -6.4922, -6.1742, -6.5161, -6.1662, -6.2012, -6.6969, -6.5852, -5.7643, -5.8688, -6.1915, -6.1767, -6.2559, -5.8674, -6.0124, -5.3897, -5.6948, -6.0773, -5.6413, -5.7237, -5.7759, -5.9838, -5.6852, -5.79, -5.9257, -5.7612, -5.8173, -6.1151, -5.9003, -5.943, -6.0294, -6.0204, -6.0618, -6.088, -6.0547, -6.9734, -7.1208, -7.1212, -7.2938, -7.342, -6.3801, -7.5626, -6.7623, -7.5131, -6.6422, -5.6557, -7.9329, -7.9329, -7.5843, -7.9334, -7.3738, -8.1293, -7.0012, -8.1351, -7.666, -7.8006, -8.2439, -8.244, -7.0394, -7.1136, -8.3735, -8.3737, -8.376, -6.7463, -7.5131, -5.9659, -6.7789, -6.6585, -6.8029, -5.1744, -6.4535, -6.6102, -6.3846, -6.389, -6.1325, -6.0682, -7.1433, -7.2152, -6.1113, -6.5412, -5.8158, -6.1713, -5.9763, -6.576, -4.7207, -5.9987, -5.3904, -6.2498, -5.8708, -5.9515, -6.2912, -5.8335, -5.4335, -6.2258, -5.2803, -6.1189, -6.2048, -6.0947, -5.9928, -6.0448, -5.8183, -5.7082, -5.8194, -5.8034, -5.937, -6.1177, -6.0545, -6.1242, -5.9847, -6.0153, -6.0575, -6.0848, -6.1091, -5.7478, -6.2592, -6.2356, -6.337, -6.708, -6.4556, -6.855, -6.9499, -7.0009, -7.001, -7.1116, -6.698, -7.2359, -7.2361, -7.3045, -7.3407, -7.4169, -7.4169, -7.2744, -7.4574, -7.4574, -6.6333, -7.5001, -7.2771, -7.5437, -7.6381, -7.6382, -7.6889, -6.8139, -6.3556, -6.5476, -6.819, -6.9057, -6.9069, -6.8641, -6.6444, -6.2672, -6.791, -5.0717, -6.0131, -4.9172, -6.8898, -6.1248, -6.1394, -6.4725, -5.9051, -5.3373, -5.6316, -6.2703, -4.6746, -6.2961, -6.2137, -6.6244, -6.4472, -5.5622, -6.1646, -6.1152, -5.9624, -5.3187, -5.7123, -5.7043, -5.8862, -5.6558, -5.7414, -5.9916, -5.8486, -5.9118, -5.7714, -6.1674, -6.1447, -6.1103, -6.1133, -6.0999, -6.1761, -6.2955, -5.423, -6.7557, -5.608, -5.1954, -4.7098, -6.3082, -5.7862, -6.0683, -6.5078, -7.6768, -5.6938, -6.7491, -6.1288, -6.4743, -6.9324, -7.0127, -5.7524, -4.9805, -5.461, -6.5506, -7.6545, -6.67, -6.4025, -6.9941, -6.3532, -6.5633, -6.2178, -7.4571, -7.7242, -6.2015, -5.6999, -5.9848, -6.0335, -5.0102, -6.0532, -5.9069, -5.9138, -4.9149, -5.2599, -4.9563, -5.241, -5.6756, -5.9244, -5.9083, -5.3194, -5.2097, -5.0699, -5.4723, -5.6216, -5.4002, -5.3977, -5.2061, -5.6583, -5.7333, -5.5056, -5.3749, -5.864, -5.8314, -5.8451, -6.7522, -6.7522, -6.5911, -6.4838, -7.1006, -7.1007, -7.154, -7.2705, -7.2706, -7.3343, -5.5008, -7.335, -7.3367, -7.4024, -7.4026, -7.4028, -7.4755, -7.283, -7.5541, -5.6419, -7.2893, -7.6394, -7.6397, -7.6402, -7.6401, -7.6403, -7.0859, -7.0859, -6.7973, -7.7333, -6.0368, -6.1257, -6.0111, -6.4732, -5.3149, -5.556, -6.5418, -6.1336, -5.2705, -6.2718, -6.4408, -5.9862, -6.4271, -5.7297, -6.8974, -5.418, -6.1017, -6.3219, -6.6025, -6.0374, -5.8159, -6.399, -5.4407, -5.2413, -6.1425, -5.0772, -4.1576, -5.5441, -5.4131, -5.4204, -5.649, -5.1377, -5.0761, -5.9508, -5.3931, -5.6208, -5.4623, -5.7029, -5.8563, -5.2386, -5.6103, -5.4103, -5.7567, -5.4192, -5.7953, -5.5479, -5.7743, -5.795], \"loglift\": [30.0, 29.0, 28.0, 27.0, 26.0, 25.0, 24.0, 23.0, 22.0, 21.0, 20.0, 19.0, 18.0, 17.0, 16.0, 15.0, 14.0, 13.0, 12.0, 11.0, 10.0, 9.0, 8.0, 7.0, 6.0, 5.0, 4.0, 3.0, 2.0, 1.0, 1.7298, 1.7262, 1.7229, 1.7188, 1.717, 1.7155, 1.7106, 1.7103, 1.7071, 1.7044, 1.704, 1.698, 1.6978, 1.6977, 1.697, 1.697, 1.695, 1.6942, 1.6936, 1.6912, 1.6909, 1.6897, 1.6872, 1.6872, 1.6871, 1.687, 1.6869, 1.6867, 1.6867, 1.6837, 1.6786, 1.6781, 1.6612, 1.6611, 1.6684, 1.6115, 1.5962, 1.6584, 1.6415, 1.5657, 1.5539, 1.6395, 1.5753, 1.5087, 1.5734, 1.4674, 1.448, 1.5953, 1.5548, 1.2651, 1.2898, 1.3827, 1.3662, 1.3614, 1.0963, 1.1858, 0.7652, 0.914, 1.1864, 0.7376, 0.7722, 0.7895, 0.9439, 0.4386, 0.4978, 0.7002, 0.247, 0.3568, 1.0414, 0.1114, 0.2464, 0.6244, 0.3228, 0.6035, 0.7157, -0.9974, 1.3904, 1.3862, 1.3858, 1.3803, 1.3787, 1.3771, 1.3697, 1.3672, 1.3626, 1.362, 1.355, 1.3481, 1.3481, 1.3478, 1.3476, 1.3468, 1.3344, 1.3294, 1.3285, 1.3272, 1.3258, 1.3253, 1.3253, 1.3247, 1.3188, 1.3138, 1.3135, 1.3112, 1.311, 1.3082, 1.3022, 1.3028, 1.3012, 1.2978, 1.248, 1.2856, 1.2839, 1.2733, 1.2658, 1.2385, 1.209, 1.2889, 1.2932, 1.1742, 1.2183, 1.1243, 1.1655, 1.1248, 1.2029, 0.8109, 1.084, 0.887, 1.1103, 0.9885, 0.9902, 1.1026, 0.9298, 0.7559, 1.0656, 0.6401, 1.0066, 0.9697, 0.8804, 0.7525, 0.7841, 0.5409, 0.3177, 0.3547, 0.2819, 0.4747, 0.7872, 0.5891, 0.6732, 0.1344, 0.1436, 0.3429, 0.3397, 0.2341, 1.1047, 1.1041, 1.1034, 1.1034, 1.0987, 1.098, 1.0964, 1.0947, 1.0937, 1.0936, 1.0913, 1.0898, 1.0884, 1.0882, 1.0866, 1.0855, 1.0835, 1.0835, 1.0828, 1.0822, 1.0822, 1.082, 1.0805, 1.0802, 1.0794, 1.0761, 1.076, 1.0741, 1.0731, 1.0718, 1.0674, 1.0682, 1.0684, 1.0676, 1.0656, 1.0554, 1.0383, 1.0555, 0.9645, 1.0092, 0.8527, 1.0409, 0.9518, 0.9027, 0.9576, 0.8382, 0.6743, 0.7288, 0.8774, 0.3827, 0.8801, 0.849, 0.9768, 0.9052, 0.5231, 0.7528, 0.7271, 0.6184, 0.2129, 0.4465, 0.4149, 0.5383, 0.3701, 0.4108, 0.5009, 0.3403, 0.3761, 0.149, 0.6107, 0.4822, 0.2489, 0.1641, -0.0035, -0.0212, 2.5497, 2.5464, 2.5181, 2.517, 2.5153, 2.5137, 2.434, 2.4069, 2.3941, 2.3759, 2.3599, 2.3507, 2.3017, 2.2599, 2.255, 2.2507, 2.2431, 2.2396, 2.2337, 2.2304, 2.2251, 2.2189, 2.2029, 2.1971, 2.1895, 2.1735, 2.1674, 2.1649, 2.1629, 2.1463, 2.1155, 2.0863, 2.0897, 2.0885, 1.9043, 2.043, 1.9896, 1.9592, 1.5334, 1.6142, 1.444, 1.4474, 1.731, 1.8904, 1.8679, 1.3075, 1.1888, 1.0493, 1.4104, 1.5348, 1.1795, 1.1639, 0.8198, 1.4092, 1.4701, 0.9062, 0.5455, 1.3902, 1.0136, 1.0899, 1.6859, 1.6858, 1.6827, 1.6756, 1.6741, 1.674, 1.672, 1.6668, 1.6668, 1.6638, 1.6634, 1.663, 1.6613, 1.6603, 1.66, 1.6598, 1.6562, 1.6545, 1.6518, 1.6502, 1.6478, 1.6466, 1.6463, 1.6458, 1.6458, 1.6457, 1.6406, 1.6406, 1.6402, 1.6398, 1.6386, 1.6368, 1.6311, 1.6328, 1.6028, 1.5986, 1.6166, 1.5933, 1.5305, 1.585, 1.5916, 1.5484, 1.5807, 1.5091, 1.6142, 1.4031, 1.492, 1.5146, 1.5574, 1.4553, 1.4089, 1.5191, 1.3125, 1.2466, 1.4504, 1.1911, 0.8997, 1.2817, 1.2386, 1.2055, 1.2759, 1.0665, 1.0204, 1.3778, 1.1234, 1.2262, 1.1032, 1.2309, 1.319, 0.7696, 1.039, 0.7136, 1.116, 0.6067, 1.1687, 0.6043, 1.0701, 0.9274]}, \"token.table\": {\"Topic\": [1, 2, 3, 4, 5, 1, 2, 3, 2, 4, 2, 3, 3, 4, 2, 3, 4, 5, 2, 3, 4, 2, 3, 4, 3, 5, 1, 1, 2, 3, 4, 5, 1, 2, 3, 4, 5, 1, 2, 3, 4, 5, 3, 4, 3, 1, 2, 3, 4, 5, 1, 2, 3, 5, 3, 5, 1, 5, 1, 1, 1, 4, 1, 3, 5, 3, 1, 2, 3, 4, 5, 1, 2, 3, 4, 5, 1, 3, 4, 1, 2, 3, 4, 5, 1, 2, 4, 5, 3, 4, 5, 1, 3, 3, 1, 3, 5, 1, 2, 1, 2, 3, 4, 5, 1, 2, 3, 5, 3, 2, 4, 2, 4, 5, 1, 2, 3, 5, 1, 3, 2, 3, 4, 1, 3, 1, 2, 3, 5, 1, 2, 3, 4, 5, 3, 4, 5, 2, 3, 4, 5, 1, 2, 3, 4, 5, 1, 3, 4, 5, 1, 2, 3, 5, 1, 1, 2, 3, 4, 5, 1, 2, 3, 4, 5, 1, 2, 3, 3, 2, 3, 5, 3, 1, 2, 3, 4, 5, 2, 3, 4, 5, 3, 1, 3, 4, 1, 2, 5, 1, 2, 3, 1, 3, 5, 1, 2, 3, 4, 2, 3, 1, 3, 4, 5, 2, 3, 2, 3, 2, 3, 4, 5, 3, 2, 1, 2, 3, 5, 5, 2, 3, 4, 1, 2, 3, 4, 5, 5, 2, 3, 3, 1, 2, 3, 4, 2, 2, 1, 2, 3, 4, 1, 2, 3, 5, 1, 2, 3, 4, 5, 1, 2, 3, 5, 1, 2, 3, 1, 2, 3, 4, 2, 1, 3, 2, 3, 4, 2, 1, 2, 3, 4, 5, 1, 2, 3, 2, 2, 5, 2, 3, 1, 2, 3, 5, 2, 3, 1, 3, 4, 5, 3, 4, 2, 3, 5, 1, 1, 4, 5, 2, 3, 4, 5, 1, 4, 2, 3, 2, 5, 1, 3, 2, 5, 1, 3, 5, 1, 1, 2, 3, 4, 5, 1, 5, 3, 1, 2, 3, 4, 5, 2, 3, 2, 3, 5, 3, 5, 1, 2, 3, 5, 1, 2, 1, 2, 3, 4, 5, 1, 3, 5, 2, 3, 4, 5, 1, 3, 5, 5, 1, 5, 5, 1, 2, 3, 4, 5, 3, 4, 5, 5, 5, 1, 2, 3, 4, 5, 1, 3, 5, 1, 1, 5, 1, 1, 2, 3, 4, 5, 1, 1, 2, 3, 4, 5, 3, 1, 2, 1, 2, 3, 4, 5, 2, 1, 2, 4, 2, 3, 1, 2, 3, 4, 1, 2, 3, 4, 5, 1, 3, 4, 1, 2, 2, 1, 2, 3, 4, 5, 1, 2, 3, 4, 5, 1, 2, 3, 4, 3, 5, 3, 2, 3, 3, 1, 3, 4, 5, 1, 2, 3, 4, 5, 2, 3, 5, 2, 3, 4, 1, 3, 1, 2, 3, 5, 1, 2, 3, 4, 5, 1, 1, 2, 3, 4, 5, 2, 5, 1, 2, 3, 4, 5, 5, 5, 5, 1, 2, 3, 4, 5, 1, 2, 3, 5, 2, 3, 4, 1, 2, 3, 4, 2, 1, 2, 3, 4, 5, 1, 3, 5, 2, 3, 5, 5, 2, 3, 1, 2, 3, 5, 1, 2, 3, 4, 2, 4, 1, 3, 1, 2, 3, 4, 1, 2, 3, 4, 5, 1, 2, 3, 5, 1, 2, 3, 4, 3, 3, 5, 2, 4, 1, 2, 3, 4, 5, 1, 3, 5, 2, 1, 2, 3, 4, 5, 2, 3, 1, 3, 4, 5, 5, 3, 2, 3, 4, 5, 1, 2, 3, 5, 2, 3, 4, 1, 1, 5, 1, 2, 1, 3, 5, 1, 2, 3, 4, 5, 1, 2, 3, 4, 5, 1, 2, 3, 1, 2, 4, 1, 1, 1, 1, 2, 3, 4, 5, 2, 3, 4, 1, 2, 3, 4, 5, 1, 4, 1, 2, 3, 4, 5, 1, 1, 2, 4, 5, 2, 3, 1, 2, 3, 4, 2, 3, 4, 2, 5, 1, 4, 3, 1, 2, 3, 4, 5, 2, 1, 2, 3, 4, 1, 2, 3, 1, 2, 3, 2, 3, 4, 5, 1, 2, 3, 4, 2, 2, 3, 2, 5, 2, 4, 3, 5, 4, 2, 4, 1, 2, 3, 4, 5, 3, 3, 1, 2, 3, 4, 2, 4, 1, 2, 3, 4, 5, 2, 3, 4, 5, 2, 5, 1, 2, 3, 4, 5, 1, 5, 1, 2, 3, 4, 5, 1, 2, 2, 3, 1, 1, 2, 3, 4, 5, 2, 3, 5, 1, 2, 3, 5, 1, 2, 4, 1, 2, 3, 4, 5, 2, 3, 4, 5, 3, 2, 3, 1, 2, 3, 4, 5, 2, 3, 4, 5, 1, 2, 3, 4, 5, 1, 2, 3, 4, 5, 3, 4, 5, 5, 1, 3, 5, 1, 2, 3, 1, 2, 3, 4, 5, 5, 5, 3, 1, 5, 1, 2, 3, 4, 5, 2, 3, 4, 5, 3, 4, 1, 2, 3, 4, 5, 3, 4, 3, 5, 5, 3, 5, 1, 2, 3, 4, 5, 3, 4, 2, 3, 4, 5, 1, 2, 2, 3, 4, 2, 4, 1, 2, 3, 4, 5, 1, 2, 3, 4, 5, 1, 2, 3, 4, 5, 5, 5, 3, 3, 4, 2, 3, 4, 5, 1, 2, 3, 4, 5, 1, 2, 3, 4, 1, 2, 3, 5, 2, 3, 4, 2, 3, 4, 5, 1, 3, 5, 1, 2, 3, 4, 5, 1, 2, 3, 4, 5, 3, 1, 2, 3, 5, 3, 1, 3, 5, 1, 2, 3, 4, 5, 1, 1, 2, 3, 5, 1, 2, 3, 5, 5, 1, 2, 3, 4, 5, 1, 2, 3, 4, 5, 2, 3, 5, 1, 1, 1, 3, 5, 1, 3, 5, 1, 2, 3, 5], \"Freq\": [0.08106077281954016, 0.32071870985122414, 0.553327884029035, 0.04229257712323835, 0.0035243814269365287, 0.099343073924984, 0.6495508679710491, 0.24453679735380673, 0.31047725570338164, 0.6209545114067633, 0.9318591357129561, 0.06656136683663971, 0.15567805932198076, 0.622712237287923, 0.41106804500747246, 0.17838801953154465, 0.37228804076148453, 0.03878000424598797, 0.8662716446990145, 0.06794287409404035, 0.050957155570530266, 0.20284872494150502, 0.6761624164716834, 0.12020665181718816, 0.0797669676667444, 0.9173201281675607, 0.9741520128739302, 0.11379693291341865, 0.28069910118643265, 0.5120861981103839, 0.015172924388455819, 0.0758646219422791, 0.09547269211724312, 0.5114608506280881, 0.3068765103768529, 0.06137530207537057, 0.013638956016749016, 0.042429800654889396, 0.01697192026195576, 0.33943840523911517, 0.02545788039293364, 0.5770452889064959, 0.17359077485976487, 0.8100902826789028, 0.9828329191616165, 0.11618036111684771, 0.6555891805879264, 0.0829859722263198, 0.14937475000737563, 0.00829859722263198, 0.13872324326424756, 0.016320381560499714, 0.1958445787259966, 0.6446550716397387, 0.08404541704941523, 0.8964844485270957, 0.9517883280678049, 0.032264011120942536, 0.9722526172035453, 0.974157682173394, 0.31242423253481943, 0.7029545232033436, 0.11224261396642797, 0.028060653491606993, 0.8418196047482097, 0.9793120937505319, 0.35425157231932286, 0.1807405981221035, 0.21688871774652418, 0.04337774354930484, 0.20242946989675592, 0.3210270140942918, 0.19513406739064795, 0.15107153604437262, 0.012589294670364385, 0.3210270140942918, 0.2979379950405249, 0.04965633250675414, 0.6455323225878039, 0.15601254696920863, 0.11556484960682122, 0.479594125868308, 0.24268618417432455, 0.011556484960682121, 0.07500202690406192, 0.07500202690406192, 0.7750209446753065, 0.07500202690406192, 0.027096089810992166, 0.9212670535737337, 0.05419217962198433, 0.9220712255888425, 0.041912328435856475, 0.9744577833246199, 0.20773177837517287, 0.07331709825006101, 0.7087319497505897, 0.17252676018258606, 0.8051248808520682, 0.014488654645459155, 0.34289815994253336, 0.24147757742431925, 0.3187504022001014, 0.08693192787275493, 0.16766647206976906, 0.06209869335917373, 0.14903686406201694, 0.6209869335917373, 0.959139751883791, 0.1832911401466811, 0.7331645605867244, 0.0502290703573093, 0.8538941960742582, 0.0502290703573093, 0.5684622112247799, 0.12870842518296904, 0.23596544616877657, 0.06435421259148452, 0.9441377745427914, 0.9899884793424477, 0.07594245375893534, 0.07594245375893534, 0.8353669913482886, 0.9486516520414798, 0.049929034317972625, 0.015013348863898606, 0.030026697727797213, 0.10509344204729024, 0.8407475363783219, 0.13456615346355294, 0.11136509252156104, 0.6821111916945615, 0.009280424376796754, 0.06496297063757728, 0.16605989807932925, 0.7116852774828396, 0.14233705549656792, 0.14024206905238717, 0.14024206905238717, 0.666149827998839, 0.07012103452619359, 0.4937506042054668, 0.02057294184189445, 0.06171882552568335, 0.34974001131220567, 0.07200529644663058, 0.8750412258963175, 0.08627167015879186, 0.012324524308398838, 0.012324524308398838, 0.6159925800329847, 0.13588071618374664, 0.17211557383274573, 0.06341100088574843, 0.9615013545113431, 0.04799472069490532, 0.535941047759776, 0.26397096382197927, 0.007999120115817554, 0.14398416208471596, 0.11933051327790052, 0.06508937087885483, 0.24408514079570562, 0.010848228479809138, 0.5532596524702661, 0.008995269372571661, 0.08995269372571661, 0.8995269372571661, 0.9569940311736049, 0.013488034277950482, 0.9576504337344841, 0.013488034277950482, 0.9844671379165951, 0.028735500560686127, 0.47413575925132107, 0.31609050616754736, 0.1364936276632591, 0.05028712598120072, 0.9046323873891152, 0.17422042113974487, 0.6533265792740433, 0.13066531585480864, 0.9794722110286868, 0.07806259970891676, 0.1561251994178335, 0.7025633973802508, 0.9137510864054998, 0.026875031953102937, 0.026875031953102937, 0.013041486873226428, 0.73032326490068, 0.24778825059130213, 0.018857118229401653, 0.037714236458803306, 0.9239987932406809, 0.027050905328705927, 0.09467816865047074, 0.8521035178542367, 0.027050905328705927, 0.14245818355396933, 0.854749101323816, 0.037643050426633476, 0.6305210946461107, 0.3011444034130678, 0.028232287819975107, 0.8851268726106306, 0.07376057271755254, 0.9110037355926925, 0.06073358237284617, 0.15456915237157595, 0.20609220316210125, 0.5925150840910411, 0.025761525395262656, 0.9725476529892209, 0.918778723413612, 0.6288039748562182, 0.05154130941444412, 0.26801480895510943, 0.05154130941444412, 0.9517514675357243, 0.1720591626125391, 0.3441183252250782, 0.47794211836816414, 0.12619830137034957, 0.2158655155019137, 0.26235962653309514, 0.06642015861597345, 0.3287797851490686, 0.9517083431656477, 0.03254281326019709, 0.9600129911758142, 0.9844669617265104, 0.00644174593019097, 0.33497078836993044, 0.34141253430012136, 0.3156455505793575, 0.9300856341371131, 0.9470150100301958, 0.03456048403642602, 0.8442632528898356, 0.1135558761196855, 0.0049372120052037175, 0.04050981267834452, 0.008101962535668902, 0.04861177521401342, 0.8912158789235793, 0.3816612557959097, 0.02848218326835147, 0.02848218326835147, 0.017089309961010882, 0.541161482098678, 0.07198410553220817, 0.057587284425766536, 0.10077774774509143, 0.7774283397478482, 0.9280434092104962, 0.029936884168080526, 0.029936884168080526, 0.07344524213737742, 0.11541395193016452, 0.7869133086147581, 0.010492177448196773, 0.9046384954430738, 0.017988440585439535, 0.9713757916137348, 0.16790372133563916, 0.08395186066781958, 0.6716148853425566, 0.9528564190348674, 0.035271986234528305, 0.07054397246905661, 0.07054397246905661, 0.705439724690566, 0.07054397246905661, 0.034413365022326475, 0.8947474905804883, 0.034413365022326475, 0.930109732598882, 0.9038401340746267, 0.06456000957675906, 0.9211690122091742, 0.07369352097673394, 0.04107148102837794, 0.010267870257094485, 0.05133935128547242, 0.8933047123672201, 0.9566329982726341, 0.0375150195401033, 0.02632810585402303, 0.31593727024827634, 0.5792183287885067, 0.05265621170804606, 0.2862085333056528, 0.6869004799335668, 0.03185624933933857, 0.15928124669669283, 0.7964062334834642, 0.9256464688410139, 0.022000709153494516, 0.9240297844467696, 0.05500177288373629, 0.05506896930525453, 0.19824828949891632, 0.011013793861050907, 0.7379241886904107, 0.8647201502415662, 0.12810668892467647, 0.9424926839428651, 0.05334864248733199, 0.869765481960058, 0.054360342622503624, 0.8921305307953005, 0.07757656789524352, 0.9718741368081786, 0.9517175033513677, 0.8368679514662434, 0.10460849393328042, 0.05230424696664021, 0.9578186875390591, 0.8561345703469044, 0.05632464278598055, 0.022529857114392222, 0.011264928557196111, 0.045059714228784443, 0.9502093122757893, 0.032765838354337565, 0.9809865985032871, 0.035464870605141176, 0.1823907631121546, 0.4205120371752454, 0.3445158858785143, 0.015199230259346217, 0.02330070586165147, 0.9553289403277102, 0.022032321715268754, 0.15422625200688128, 0.815195903464944, 0.22282559788802891, 0.763973478473242, 0.052841414269113485, 0.052841414269113485, 0.27175584481258364, 0.6114506508283132, 0.898374108962798, 0.07486450908023316, 0.22187945453977512, 0.21535358822978173, 0.15988372459483796, 0.013051732619986772, 0.38828904544460646, 0.192432328805639, 0.1374516634325993, 0.6666405676481065, 0.27707697965027905, 0.49582196358470987, 0.21509923420219032, 0.010937249196721541, 0.6849124155670562, 0.13045950772705833, 0.17938182312470521, 0.974715346543754, 0.028045062070442998, 0.9535321103950619, 0.9159162950935632, 0.26368825673269286, 0.03013580076945061, 0.14314505365489041, 0.20341665519379162, 0.3540956590410447, 0.2980652757896318, 0.49677545964938635, 0.19871018385975453, 0.9730614541741511, 0.9768462100947967, 0.241745730387174, 0.3056030931309558, 0.3056030931309558, 0.013683720587953245, 0.13227596568354805, 0.7836299372662826, 0.13931198884733914, 0.05224199581775217, 0.9256513114741097, 0.9410965765066317, 0.026888473614475192, 0.957824600447484, 0.3740598033045068, 0.06801087332809214, 0.3211624573826573, 0.022670291109364048, 0.21158938368739777, 0.974154947390446, 0.2891470555610984, 0.012946883084825299, 0.47903467413853607, 0.017262510779767065, 0.20715012935720478, 0.9860063417652578, 0.07951482530703284, 0.8746630783773612, 0.13728531506930833, 0.5834625890445605, 0.2059279726039625, 0.06864265753465416, 0.00858033219183177, 0.946995689220158, 0.8190694719147282, 0.029784344433262843, 0.1340295499496828, 0.8991178365429466, 0.10577856900505254, 0.012609753805565657, 0.7313657207228081, 0.20175606088905051, 0.03782926141669697, 0.0074140338084802545, 0.5338104342105783, 0.1927648790204866, 0.17052277759504586, 0.0963824395102433, 0.02900503229464779, 0.11602012917859116, 0.841145936544786, 0.048025701676452495, 0.9365011826908237, 0.9185247370034213, 0.04142761769272886, 0.7456971184691195, 0.1159973295396408, 0.049713141231274634, 0.049713141231274634, 0.14537888982903416, 0.03028726871438212, 0.5330559293731253, 0.2786428721723155, 0.01817236122862927, 0.7029720983022677, 0.015621602184494838, 0.2187024305829277, 0.04686480655348451, 0.9434523369838719, 0.041019666825385735, 0.9768431741031632, 0.007590279912073773, 0.9943266684816643, 0.983808812960383, 0.0558449306214144, 0.10052087511854592, 0.02233797224856576, 0.8153359870726502, 0.11069865076087965, 0.04744227889751985, 0.18449775126813275, 0.031628185931679896, 0.6272923543116513, 0.9187716782342561, 0.9855314101504201, 0.963941171142036, 0.04211997866399735, 0.40013979730797483, 0.5264997332999669, 0.02331184260914368, 0.9557855469748908, 0.7408452327477386, 0.016837391653357694, 0.16837391653357694, 0.06734956661343078, 0.32358901133774504, 0.006222865602648943, 0.23646889290065984, 0.01866859680794683, 0.41070912977483026, 0.979089689010728, 0.08232777219122288, 0.07409499497210059, 0.1975866532589349, 0.024698331657366863, 0.6174582914341715, 0.8819263692501319, 0.10755199625001609, 0.04955522463670321, 0.20441530162640076, 0.22919291394475236, 0.012388806159175803, 0.5079410525262079, 0.9730763360115822, 0.9517097050073361, 0.9858883092379247, 0.15658009399017686, 0.05924652205033719, 0.1819714605831785, 0.008463788864333884, 0.5924652205033719, 0.3509689198574641, 0.006051188273404553, 0.04235831791383187, 0.5990676390670507, 0.1969997329183013, 0.16416644409858444, 0.6238324875746208, 0.03911460556009659, 0.32856268670481137, 0.32073976559279205, 0.3050939233687534, 0.9046428264865373, 0.14717370237100857, 0.14717370237100857, 0.13168173370037609, 0.023237953005948723, 0.5499648878074531, 0.01178096411034074, 0.04712385644136296, 0.9424771288272591, 0.016719173731405017, 0.05015752119421506, 0.919554555227276, 0.9831898306255156, 0.9338892717019851, 0.049152066931683426, 0.08196570731822694, 0.08909316012850754, 0.3278628292729078, 0.49892169671964226, 0.035109062240123355, 0.7841023900294216, 0.05851510373353892, 0.11703020746707785, 0.2416587118610648, 0.604146779652662, 0.06693917081082616, 0.9371483913515662, 0.009732843466913983, 0.7494289469523766, 0.2238553997390216, 0.019465686933827966, 0.020393116116824612, 0.05098279029206153, 0.7851349704977475, 0.030589674175236916, 0.11216213864253535, 0.07045682876017782, 0.3029643636687646, 0.6059287273375292, 0.021137048628053344, 0.016198968892362386, 0.2591835022777982, 0.6965556623715826, 0.016198968892362386, 0.9725472889512965, 0.04146839886652823, 0.9537731739301492, 0.023190048030782163, 0.9507919692620687, 0.056562677261490724, 0.08998607746146252, 0.7713092353839645, 0.01028412313845286, 0.07455989275378323, 0.19644035035308863, 0.6449791503259744, 0.16042628612168905, 0.9854327180416808, 0.12050210568717727, 0.41712267353253674, 0.42175736990512047, 0.03244287460808619, 0.009269392745167483, 0.17518955760064903, 0.8133800888601562, 0.19326896056544765, 0.29990011122224636, 0.05331557532839935, 0.4531823902913945, 0.9439403116922005, 0.9868209839771617, 0.05792764243120757, 0.28963821215603786, 0.5985856384558116, 0.05792764243120757, 0.182594695150053, 0.06351119831306191, 0.23022809388484944, 0.5239673860827608, 0.8822560731592085, 0.02594870803409437, 0.0778461241022831, 0.9791220667782542, 0.9741526684057156, 0.9634725739339248, 0.9890743853999022, 0.9528265117236369, 0.05505003614258293, 0.8074005300912163, 0.1376250903564573, 0.01130440250060021, 0.13565283000720252, 0.4936255758595425, 0.026376939168067156, 0.3278276725174061, 0.10970901136167098, 0.6682276146574505, 0.14960319731136953, 0.05984127892454781, 0.01994709297484927, 0.7625525700149554, 0.1491950680464043, 0.08288614891466906, 0.9352043405511189, 0.03817160573678036, 0.01908580286839018, 0.9179392097621824, 0.9791471645133374, 0.9256748213294935, 0.37728308563341234, 0.11690461808359255, 0.14878769574275416, 0.09564923297748482, 0.26037846754981975, 0.8124890662796298, 0.1508908265947884, 0.034820959983412704, 0.06159427246005764, 0.7760878329967263, 0.0862319814440807, 0.02463770898402306, 0.04927541796804612, 0.9723968908369195, 0.03889587563347678, 0.6813047703714912, 0.03028021201651072, 0.1514010600825536, 0.01514010600825536, 0.10598074205778753, 0.9860618477954798, 0.8442638082787411, 0.05116750353204492, 0.02558375176602246, 0.07675125529806738, 0.021357500171738, 0.96108750772821, 0.021561717723572196, 0.19405545951214978, 0.45279607219501616, 0.32342576585358296, 0.047757741253253286, 0.931275954438439, 0.023878870626626643, 0.841369951885518, 0.15297635488827602, 0.323928531412544, 0.647857062825088, 0.9860075615450894, 0.016778246177388136, 0.10066947706432881, 0.8624018535177502, 0.01342259694191051, 0.010066947706432882, 0.9470315267248148, 0.02354576601492465, 0.7063729804477394, 0.08241018105223627, 0.1883661281193972, 0.021353576483876566, 0.5893587109549931, 0.3886350920065535, 0.018419902482898026, 0.8841553191791053, 0.09209951241449013, 0.07628658406242195, 0.20706358531228813, 0.6974773399992864, 0.01089808343748885, 0.024737563808353943, 0.3413783805552844, 0.5640164548304699, 0.06926517866339103, 0.9832503707506121, 0.8841658790425607, 0.11052073488032009, 0.04944613676342224, 0.9394765985050224, 0.25970677133690717, 0.6752376054759587, 0.9612679176444979, 0.04272301856197768, 0.9464887911259572, 0.9526529003928688, 0.027218654296939107, 0.011342752605708708, 0.2949115677484264, 0.3743108359883874, 0.2949115677484264, 0.022685505211417416, 0.9750809084793692, 0.9768403988953384, 0.07644785055488121, 0.7166985989520114, 0.20067560770656317, 0.009555981319360151, 0.9116447680965696, 0.0759703973413808, 0.04312640487150915, 0.04312640487150915, 0.23719522679330032, 0.5390800608938644, 0.12937921461452745, 0.8971779567590087, 0.046009125987641473, 0.046009125987641473, 0.011502281496910368, 0.0494461283003565, 0.9394764377067736, 0.3640015683070266, 0.04254563785406805, 0.21272818927034023, 0.0756366895183432, 0.3025467580733728, 0.9118002475876292, 0.04559001237938146, 0.5259217089368756, 0.11027390671257069, 0.22054781342514138, 0.04241304104329642, 0.11027390671257069, 0.9486184299183298, 0.024963642892587627, 0.044575428375139524, 0.9583717100654997, 0.974159075695944, 0.06429667747593426, 0.002521438332389579, 0.4815947214864096, 0.010085753329558316, 0.4425124273343711, 0.02658729251085039, 0.02658729251085039, 0.9305552378797638, 0.08676863807691225, 0.1503989726666479, 0.6073804665383857, 0.15618354853844205, 0.8387046340123865, 0.13479181618056213, 0.029953736929013805, 0.4500789265498901, 0.16366506419996005, 0.26186410271993604, 0.016366506419996003, 0.11456554493997202, 0.2060999770550932, 0.5358599403432424, 0.22258797521950066, 0.03297599632881491, 0.95915532452637, 0.019340220358765047, 0.9670110179382524, 0.01953944026237056, 0.3907888052474112, 0.36147964485385536, 0.18562468249252032, 0.03907888052474112, 0.6389665077890979, 0.251396658802268, 0.08379888626742267, 0.020949721566855668, 0.43425179239339473, 0.26174080637410096, 0.1784596407096143, 0.02974327345160238, 0.09517847504512762, 0.008075401576004738, 0.2907144567361705, 0.1292064252160758, 0.5006748977122937, 0.0646032126080379, 0.07162617253160476, 0.9311402429108618, 0.9858899031337282, 0.976847721545234, 0.8252089287645277, 0.16504178575290554, 0.9582901527795727, 0.15040708577895084, 0.8272389717842297, 0.03760177144473771, 0.1735452677631432, 0.2313936903508576, 0.13980035458697646, 0.2458557959977862, 0.21211088282161947, 0.9688069165035877, 0.9634718147843115, 0.987739922495068, 0.9741594027809171, 0.9730856837573972, 0.0202582778176346, 0.5449476732943708, 0.4071913841344555, 0.02430993338116152, 0.00202582778176346, 0.46023853805278486, 0.3825359277321848, 0.12850816322253084, 0.02988561935407694, 0.29859720022143676, 0.7025816475798512, 0.2245663131393251, 0.03962934937752796, 0.26419566251685306, 0.4227130600269649, 0.05283913250337061, 0.24792201403646336, 0.6941816393020974, 0.10361062324280065, 0.8703292352395254, 0.9155906582008516, 0.037037615079233865, 0.9259403769808466, 0.06942763081683229, 0.6109631511881242, 0.2568822340222795, 0.04165657849009937, 0.020828289245049685, 0.20515650877314226, 0.7522405321681882, 0.37449593869143044, 0.35179921513437407, 0.23831559734909208, 0.034045085335584584, 0.9416918597765407, 0.03553554187836003, 0.8635719018658122, 0.10159669433715438, 0.01693278238952573, 0.9633156388043329, 0.9401648607986187, 0.14675831426274508, 0.04193094693221287, 0.12579284079663863, 0.010482736733053218, 0.670895150915406, 0.15812065968251202, 0.052706886560837336, 0.22588665668930288, 0.03764777611488381, 0.5270688656083734, 0.0360494480803202, 0.05046922731244828, 0.05767911692851232, 0.02162966884819212, 0.8291373058473646, 0.9517258864442066, 0.9688002292594621, 0.9887573654479924, 0.37819917527760527, 0.5943129897219511, 0.33209974368551215, 0.4749026334702824, 0.1693708692796112, 0.01992598462113073, 0.2229296090850659, 0.5162580420917315, 0.1407976478431995, 0.06648777814817755, 0.05084359505448871, 0.02296922553121269, 0.895799795717295, 0.04593845106242538, 0.02296922553121269, 0.9491411756060597, 0.06091897156583754, 0.12183794313167508, 0.8122529542111672, 0.01771002916066133, 0.9386315455150505, 0.01771002916066133, 0.10888282802069534, 0.7621797961448673, 0.0068051767512934585, 0.12249318152328224, 0.01728349786341436, 0.051850493590243074, 0.9333088846243753, 0.24022024630858183, 0.43732403815152077, 0.04311645446564289, 0.049275947960734735, 0.22790125931839814, 0.27104302401460645, 0.10255681989741866, 0.21976461406589712, 0.04029017924541447, 0.36627435677649517, 0.96661108064381, 0.2436034495916341, 0.10591454330071048, 0.5401641708336234, 0.11121027046574601, 0.9570291314565128, 0.13240572769611625, 0.13240572769611625, 0.7355873760895347, 0.09366222854621178, 0.08429600569159061, 0.7680302740789366, 0.028098668563863536, 0.028098668563863536, 0.9741593350849034, 0.03639508390049877, 0.018197541950249384, 0.03639508390049877, 0.8916795555622198, 0.5725701122719188, 0.02290280449087675, 0.1488682291906989, 0.2519308493996443, 0.9688104492074923, 0.2503359005466261, 0.34661893921840536, 0.23878193590601257, 0.011553964640613512, 0.15405286187484682, 0.1172694241414737, 0.25017477150181056, 0.4612597349564633, 0.00781796160943158, 0.1602682129933474, 0.024098589710793993, 0.09639435884317597, 0.8675492295885837, 0.9713210155053552, 0.9740997821452454, 0.049398177021067025, 0.049398177021067025, 0.8891671863792064, 0.06418903495633785, 0.866551971910561, 0.06418903495633785, 0.059128672601969794, 0.07391084075246225, 0.21434143818214052, 0.6504153986216678], \"Term\": [\"000\", \"000\", \"000\", \"000\", \"000\", \"1960\", \"1960\", \"1960\", \"63\", \"63\", \"academic\", \"academic\", \"accommodate\", \"accommodate\", \"act\", \"act\", \"act\", \"act\", \"activities\", \"activities\", \"activities\", \"administration\", \"administration\", \"administration\", \"alexander\", \"alexander\", \"amateur\", \"american\", \"american\", \"american\", \"american\", \"american\", \"area\", \"area\", \"area\", \"area\", \"area\", \"asked\", \"asked\", \"asked\", \"asked\", \"asked\", \"assessment\", \"assessment\", \"aug\", \"available\", \"available\", \"available\", \"available\", \"available\", \"away\", \"away\", \"away\", \"away\", \"baby\", \"baby\", \"ball\", \"ball\", \"baseball\", \"bat\", \"battery\", \"battery\", \"bed\", \"bed\", \"bed\", \"berlin\", \"best\", \"best\", \"best\", \"best\", \"best\", \"better\", \"better\", \"better\", \"better\", \"better\", \"blocks\", \"blocks\", \"blocks\", \"board\", \"board\", \"board\", \"board\", \"board\", \"boat\", \"boat\", \"boat\", \"boat\", \"boats\", \"boats\", \"boats\", \"bob\", \"bob\", \"bombs\", \"boy\", \"boy\", \"boy\", \"bridge\", \"bridge\", \"business\", \"business\", \"business\", \"business\", \"business\", \"came\", \"came\", \"came\", \"came\", \"castro\", \"catastrophe\", \"catastrophe\", \"cattle\", \"cattle\", \"cattle\", \"center\", \"center\", \"center\", \"center\", \"charlie\", \"charter\", \"chemical\", \"chemical\", \"chemical\", \"chest\", \"chest\", \"child\", \"child\", \"child\", \"child\", \"city\", \"city\", \"city\", \"city\", \"city\", \"claim\", \"claim\", \"claim\", \"claims\", \"claims\", \"claims\", \"claims\", \"class\", \"class\", \"class\", \"class\", \"class\", \"clay\", \"clay\", \"clay\", \"clay\", \"club\", \"club\", \"club\", \"club\", \"coach\", \"college\", \"college\", \"college\", \"college\", \"college\", \"come\", \"come\", \"come\", \"come\", \"come\", \"committee\", \"committee\", \"committee\", \"communism\", \"communist\", \"communist\", \"communist\", \"communists\", \"company\", \"company\", \"company\", \"company\", \"company\", \"comprehensive\", \"concrete\", \"concrete\", \"concrete\", \"congo\", \"conversion\", \"conversion\", \"conversion\", \"cooling\", \"cooling\", \"cooling\", \"corps\", \"corps\", \"corps\", \"couldn\", \"couldn\", \"couldn\", \"council\", \"council\", \"council\", \"council\", \"county\", \"county\", \"court\", \"court\", \"court\", \"court\", \"coverage\", \"coverage\", \"creative\", \"creative\", \"credit\", \"credit\", \"credit\", \"credit\", \"cuba\", \"curriculum\", \"cut\", \"cut\", \"cut\", \"cut\", \"dad\", \"daily\", \"daily\", \"daily\", \"day\", \"day\", \"day\", \"day\", \"day\", \"dear\", \"democratic\", \"democratic\", \"democrats\", \"department\", \"department\", \"department\", \"department\", \"depreciation\", \"designers\", \"development\", \"development\", \"development\", \"development\", \"didn\", \"didn\", \"didn\", \"didn\", \"don\", \"don\", \"don\", \"don\", \"don\", \"door\", \"door\", \"door\", \"door\", \"drill\", \"drill\", \"drill\", \"east\", \"east\", \"east\", \"east\", \"educated\", \"election\", \"election\", \"electricity\", \"electricity\", \"electricity\", \"employee\", \"engine\", \"engine\", \"engine\", \"engine\", \"engine\", \"engineers\", \"engineers\", \"engineers\", \"evaluation\", \"exceed\", \"exceed\", \"expenditures\", \"expenditures\", \"eyes\", \"eyes\", \"eyes\", \"eyes\", \"faculty\", \"faculty\", \"farm\", \"farm\", \"farm\", \"farm\", \"farmers\", \"farmers\", \"father\", \"father\", \"father\", \"favorite\", \"feed\", \"feed\", \"feed\", \"felt\", \"felt\", \"felt\", \"felt\", \"fig\", \"fig\", \"fiscal\", \"fiscal\", \"fishing\", \"fishing\", \"football\", \"football\", \"forests\", \"fountain\", \"frame\", \"frame\", \"frame\", \"gallery\", \"game\", \"game\", \"game\", \"game\", \"game\", \"games\", \"games\", \"gen\", \"general\", \"general\", \"general\", \"general\", \"general\", \"georgia\", \"georgia\", \"girl\", \"girl\", \"girl\", \"god\", \"god\", \"going\", \"going\", \"going\", \"going\", \"golf\", \"golf\", \"good\", \"good\", \"good\", \"good\", \"good\", \"got\", \"got\", \"got\", \"government\", \"government\", \"government\", \"government\", \"green\", \"green\", \"green\", \"hadn\", \"hair\", \"hair\", \"handsome\", \"head\", \"head\", \"head\", \"head\", \"head\", \"hearing\", \"hearing\", \"hearing\", \"heel\", \"hell\", \"high\", \"high\", \"high\", \"high\", \"high\", \"hit\", \"hit\", \"hit\", \"hits\", \"hole\", \"hole\", \"holes\", \"home\", \"home\", \"home\", \"home\", \"home\", \"homer\", \"house\", \"house\", \"house\", \"house\", \"house\", \"hughes\", \"import\", \"import\", \"important\", \"important\", \"important\", \"important\", \"important\", \"imports\", \"inch\", \"inch\", \"inch\", \"india\", \"india\", \"industrial\", \"industrial\", \"industrial\", \"industrial\", \"interest\", \"interest\", \"interest\", \"interest\", \"interest\", \"interference\", \"interference\", \"interference\", \"interior\", \"interior\", \"inventory\", \"island\", \"island\", \"island\", \"island\", \"island\", \"john\", \"john\", \"john\", \"john\", \"john\", \"junior\", \"junior\", \"junior\", \"junior\", \"jury\", \"jury\", \"katanga\", \"kennedy\", \"kennedy\", \"khrushchev\", \"knew\", \"knew\", \"knew\", \"knew\", \"know\", \"know\", \"know\", \"know\", \"know\", \"laboratories\", \"laos\", \"laughed\", \"laws\", \"laws\", \"laws\", \"leader\", \"leader\", \"league\", \"league\", \"league\", \"league\", \"left\", \"left\", \"left\", \"left\", \"left\", \"leg\", \"let\", \"let\", \"let\", \"let\", \"let\", \"library\", \"library\", \"life\", \"life\", \"life\", \"life\", \"life\", \"liked\", \"lips\", \"listening\", \"little\", \"little\", \"little\", \"little\", \"little\", \"ll\", \"ll\", \"ll\", \"ll\", \"loans\", \"loans\", \"loans\", \"local\", \"local\", \"local\", \"local\", \"locations\", \"look\", \"look\", \"look\", \"look\", \"look\", \"looked\", \"looked\", \"looked\", \"love\", \"love\", \"love\", \"loved\", \"maintain\", \"maintain\", \"man\", \"man\", \"man\", \"man\", \"management\", \"management\", \"management\", \"management\", \"manufactured\", \"manufactured\", \"mayor\", \"mayor\", \"medical\", \"medical\", \"medical\", \"medical\", \"meeting\", \"meeting\", \"meeting\", \"meeting\", \"meeting\", \"members\", \"members\", \"members\", \"members\", \"military\", \"military\", \"military\", \"military\", \"moscow\", \"mother\", \"mother\", \"motors\", \"motors\", \"mr\", \"mr\", \"mr\", \"mr\", \"mr\", \"mrs\", \"mrs\", \"mrs\", \"musical\", \"national\", \"national\", \"national\", \"national\", \"national\", \"nations\", \"nations\", \"night\", \"night\", \"night\", \"night\", \"nodded\", \"nuclear\", \"officer\", \"officer\", \"officer\", \"officer\", \"old\", \"old\", \"old\", \"old\", \"organizations\", \"organizations\", \"organizations\", \"paint\", \"paintings\", \"pale\", \"panels\", \"participation\", \"party\", \"party\", \"party\", \"people\", \"people\", \"people\", \"people\", \"people\", \"period\", \"period\", \"period\", \"period\", \"period\", \"piece\", \"piece\", \"piece\", \"pieces\", \"pieces\", \"pieces\", \"pitcher\", \"pitching\", \"pittsburgh\", \"place\", \"place\", \"place\", \"place\", \"place\", \"planning\", \"planning\", \"planning\", \"plant\", \"plant\", \"plant\", \"plant\", \"plant\", \"plastic\", \"plastic\", \"play\", \"play\", \"play\", \"play\", \"play\", \"player\", \"playing\", \"playing\", \"playing\", \"playing\", \"police\", \"police\", \"policy\", \"policy\", \"policy\", \"policy\", \"political\", \"political\", \"political\", \"pool\", \"pool\", \"pound\", \"pound\", \"premier\", \"president\", \"president\", \"president\", \"president\", \"president\", \"producers\", \"production\", \"production\", \"production\", \"production\", \"program\", \"program\", \"program\", \"projects\", \"projects\", \"projects\", \"property\", \"property\", \"property\", \"property\", \"public\", \"public\", \"public\", \"public\", \"publications\", \"published\", \"published\", \"puerto\", \"puerto\", \"ratio\", \"ratio\", \"rayburn\", \"rayburn\", \"recommendation\", \"recreation\", \"recreation\", \"report\", \"report\", \"report\", \"report\", \"report\", \"republican\", \"republicans\", \"research\", \"research\", \"research\", \"research\", \"resources\", \"resources\", \"respect\", \"respect\", \"respect\", \"respect\", \"respect\", \"rhode\", \"rhode\", \"rhode\", \"rhode\", \"rico\", \"rico\", \"right\", \"right\", \"right\", \"right\", \"right\", \"roy\", \"roy\", \"run\", \"run\", \"run\", \"run\", \"run\", \"runs\", \"runs\", \"russia\", \"russia\", \"ruth\", \"said\", \"said\", \"said\", \"said\", \"said\", \"sat\", \"sat\", \"sat\", \"school\", \"school\", \"school\", \"school\", \"season\", \"season\", \"season\", \"second\", \"second\", \"second\", \"second\", \"second\", \"secretary\", \"secretary\", \"secretary\", \"secretary\", \"sen\", \"senate\", \"senate\", \"service\", \"service\", \"service\", \"service\", \"service\", \"services\", \"services\", \"services\", \"services\", \"set\", \"set\", \"set\", \"set\", \"set\", \"shall\", \"shall\", \"shall\", \"shall\", \"shall\", \"shelter\", \"shelter\", \"shoes\", \"sick\", \"signs\", \"signs\", \"silent\", \"site\", \"site\", \"site\", \"small\", \"small\", \"small\", \"small\", \"small\", \"smile\", \"smiled\", \"soviet\", \"stadium\", \"stared\", \"state\", \"state\", \"state\", \"state\", \"state\", \"states\", \"states\", \"states\", \"states\", \"stations\", \"stations\", \"stock\", \"stock\", \"stock\", \"stock\", \"stock\", \"stockholders\", \"stockholders\", \"stood\", \"stood\", \"strange\", \"susan\", \"susan\", \"system\", \"system\", \"system\", \"system\", \"system\", \"tangible\", \"tangible\", \"tax\", \"tax\", \"tax\", \"tax\", \"team\", \"team\", \"technical\", \"technical\", \"technical\", \"textile\", \"thereof\", \"thing\", \"thing\", \"thing\", \"thing\", \"thing\", \"think\", \"think\", \"think\", \"think\", \"think\", \"thought\", \"thought\", \"thought\", \"thought\", \"thought\", \"till\", \"tongue\", \"troops\", \"trust\", \"trust\", \"united\", \"united\", \"united\", \"united\", \"use\", \"use\", \"use\", \"use\", \"use\", \"vehicles\", \"vehicles\", \"vehicles\", \"vehicles\", \"vernon\", \"voice\", \"voice\", \"voice\", \"vote\", \"vote\", \"vote\", \"war\", \"war\", \"war\", \"war\", \"wasn\", \"wasn\", \"wasn\", \"water\", \"water\", \"water\", \"water\", \"water\", \"way\", \"way\", \"way\", \"way\", \"way\", \"weapons\", \"week\", \"week\", \"week\", \"week\", \"welfare\", \"went\", \"went\", \"went\", \"west\", \"west\", \"west\", \"west\", \"west\", \"willie\", \"woman\", \"woman\", \"woman\", \"woman\", \"won\", \"won\", \"won\", \"won\", \"wondered\", \"work\", \"work\", \"work\", \"work\", \"work\", \"world\", \"world\", \"world\", \"world\", \"world\", \"wouldn\", \"wouldn\", \"wouldn\", \"yankees\", \"yards\", \"yes\", \"yes\", \"yes\", \"yesterday\", \"yesterday\", \"yesterday\", \"young\", \"young\", \"young\", \"young\"]}, \"R\": 30, \"lambda.step\": 0.01, \"plot.opts\": {\"xlab\": \"PC1\", \"ylab\": \"PC2\"}, \"topic.order\": [1, 2, 3, 4, 5]};\n",
       "\n",
       "function LDAvis_load_lib(url, callback){\n",
       "  var s = document.createElement('script');\n",
       "  s.src = url;\n",
       "  s.async = true;\n",
       "  s.onreadystatechange = s.onload = callback;\n",
       "  s.onerror = function(){console.warn(\"failed to load library \" + url);};\n",
       "  document.getElementsByTagName(\"head\")[0].appendChild(s);\n",
       "}\n",
       "\n",
       "if(typeof(LDAvis) !== \"undefined\"){\n",
       "   // already loaded: just create the visualization\n",
       "   !function(LDAvis){\n",
       "       new LDAvis(\"#\" + \"ldavis_el148191406927977802569162063563\", ldavis_el148191406927977802569162063563_data);\n",
       "   }(LDAvis);\n",
       "}else if(typeof define === \"function\" && define.amd){\n",
       "   // require.js is available: use it to load d3/LDAvis\n",
       "   require.config({paths: {d3: \"https://d3js.org/d3.v5\"}});\n",
       "   require([\"d3\"], function(d3){\n",
       "      window.d3 = d3;\n",
       "      LDAvis_load_lib(\"https://cdn.jsdelivr.net/gh/bmabey/pyLDAvis@3.3.1/pyLDAvis/js/ldavis.v3.0.0.js\", function(){\n",
       "        new LDAvis(\"#\" + \"ldavis_el148191406927977802569162063563\", ldavis_el148191406927977802569162063563_data);\n",
       "      });\n",
       "    });\n",
       "}else{\n",
       "    // require.js not available: dynamically load d3 & LDAvis\n",
       "    LDAvis_load_lib(\"https://d3js.org/d3.v5.js\", function(){\n",
       "         LDAvis_load_lib(\"https://cdn.jsdelivr.net/gh/bmabey/pyLDAvis@3.3.1/pyLDAvis/js/ldavis.v3.0.0.js\", function(){\n",
       "                 new LDAvis(\"#\" + \"ldavis_el148191406927977802569162063563\", ldavis_el148191406927977802569162063563_data);\n",
       "            })\n",
       "         });\n",
       "}\n",
       "</script>"
      ],
      "text/plain": [
       "<IPython.core.display.HTML object>"
      ]
     },
     "execution_count": 50,
     "metadata": {},
     "output_type": "execute_result"
    }
   ],
   "source": [
    "pyLDAvis.display(lda_display)"
   ]
  },
  {
   "cell_type": "markdown",
   "id": "a3d14c87",
   "metadata": {},
   "source": [
    "Q: What conclusions do you draw from the visualization above? Please address the principal component scatterplot and the salient terms graph.\n",
    "\n",
    "A: This visualization is a powerful tool to see the overlaps between the classifications. <br>\n",
    "Furthermore, the salient terms graph helps looking at the top words within each group how their occurance in other groups.<br>\n",
    "It is amazing to see how group 1 (which contains baseball, coach, pitcher, team) are very far in terms of relavance compare to group 2<br> (which contains words like employee, inventory, academic)."
   ]
  }
 ],
 "metadata": {
  "kernelspec": {
   "display_name": "Python 3 (ipykernel)",
   "language": "python",
   "name": "python3"
  },
  "language_info": {
   "codemirror_mode": {
    "name": "ipython",
    "version": 3
   },
   "file_extension": ".py",
   "mimetype": "text/x-python",
   "name": "python",
   "nbconvert_exporter": "python",
   "pygments_lexer": "ipython3",
   "version": "3.9.12"
  },
  "vscode": {
   "interpreter": {
    "hash": "aee8b7b246df8f9039afb4144a1f6fd8d2ca17a180786b69acc140d282b71a49"
   }
  }
 },
 "nbformat": 4,
 "nbformat_minor": 5
}
